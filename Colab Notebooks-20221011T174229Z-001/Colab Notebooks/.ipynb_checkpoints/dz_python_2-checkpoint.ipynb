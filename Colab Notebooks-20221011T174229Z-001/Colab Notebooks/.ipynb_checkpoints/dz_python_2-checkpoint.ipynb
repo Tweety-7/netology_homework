{
 "cells": [
  {
   "cell_type": "code",
   "execution_count": null,
   "metadata": {
    "colab": {
     "base_uri": "https://localhost:8080/"
    },
    "executionInfo": {
     "elapsed": 316,
     "status": "ok",
     "timestamp": 1659805898437,
     "user": {
      "displayName": "Арина Плоткина",
      "userId": "01634519954497296051"
     },
     "user_tz": -180
    },
    "id": "Fsoitb4jHMbd",
    "outputId": "6981baa1-9067-4f29-863b-adcb483a1dea"
   },
   "outputs": [
    {
     "name": "stdout",
     "output_type": "stream",
     "text": [
      "es\n"
     ]
    }
   ],
   "source": [
    "# Задание 1\n",
    "# word = 'test'\n",
    "# word = 'abcdefg'\n",
    "mid = int(len(word)/2)\n",
    "if len(word) %2 == 0:\n",
    "  print(word[mid-1 : mid+1])\n",
    "else:\n",
    "  print(word[mid])  "
   ]
  },
  {
   "cell_type": "code",
   "execution_count": null,
   "metadata": {
    "colab": {
     "base_uri": "https://localhost:8080/"
    },
    "executionInfo": {
     "elapsed": 9859,
     "status": "ok",
     "timestamp": 1659806127930,
     "user": {
      "displayName": "Арина Плоткина",
      "userId": "01634519954497296051"
     },
     "user_tz": -180
    },
    "id": "ttSR1sNbI9xn",
    "outputId": "80c7c736-966a-43e3-a22e-3fe5e49b88b9"
   },
   "outputs": [
    {
     "name": "stdout",
     "output_type": "stream",
     "text": [
      "Введите число: 1\n",
      "Введите число: 4\n",
      "Введите число: 6\n",
      "Введите число: 0\n",
      "11\n"
     ]
    }
   ],
   "source": [
    "# Задание 2\n",
    "num = 1\n",
    "all_dig = []\n",
    "while num:\n",
    "  num = int(input('Введите число: '))\n",
    "  all_dig.append(num)\n",
    "print(sum(all_dig))\n"
   ]
  },
  {
   "cell_type": "code",
   "execution_count": null,
   "metadata": {
    "colab": {
     "base_uri": "https://localhost:8080/"
    },
    "executionInfo": {
     "elapsed": 307,
     "status": "ok",
     "timestamp": 1659806748037,
     "user": {
      "displayName": "Арина Плоткина",
      "userId": "01634519954497296051"
     },
     "user_tz": -180
    },
    "id": "o8aQi1MjJ92Z",
    "outputId": "244eee4a-df8a-440d-bfe9-ed4f94dae00f"
   },
   "outputs": [
    {
     "name": "stdout",
     "output_type": "stream",
     "text": [
      "['Emma', 'Kate', 'Kira', 'Liza', 'Trisha']\n",
      "Идеальные пары:\n",
      "Alex и Emma\n",
      "Arthur и Kate\n",
      "John и Kira\n",
      "Peter и Liza\n",
      "Richard и Trisha\n"
     ]
    }
   ],
   "source": [
    "# Задание 3\n",
    "boys = ['Peter', 'Alex', 'John', 'Arthur', 'Richard']\n",
    "girls = ['Kate', 'Liza', 'Kira', 'Emma', 'Trisha']\n",
    "boys.sort()\n",
    "girls.sort()\n",
    "z = zip(boys,girls)\n",
    "print('Идеальные пары:')\n",
    "for i in z:\n",
    "  print(f\"{i[0]} и {i[1]}\")"
   ]
  },
  {
   "cell_type": "code",
   "execution_count": 31,
   "metadata": {
    "colab": {
     "base_uri": "https://localhost:8080/"
    },
    "executionInfo": {
     "elapsed": 315,
     "status": "ok",
     "timestamp": 1659857606547,
     "user": {
      "displayName": "Арина Плоткина",
      "userId": "01634519954497296051"
     },
     "user_tz": -180
    },
    "id": "Xj9aJzYtMW_O",
    "outputId": "7b6b3fd6-f410-4aef-e777-084274f8a366"
   },
   "outputs": [
    {
     "name": "stdout",
     "output_type": "stream",
     "text": [
      "Средняя температура в странах:\n",
      "Thailand - 23.9 C\n",
      "Средняя температура в странах:\n",
      "Germany - 13.8 C\n",
      "Средняя температура в странах:\n",
      "Russia - 3.7 C\n",
      "Средняя температура в странах:\n",
      "Poland - 12.0 C\n"
     ]
    }
   ],
   "source": [
    "# Задание 4\n",
    "countries_temperature = [\n",
    "    ['Thailand', [75.2, 77, 78.8, 73.4, 68, 75.2, 77]],\n",
    "    ['Germany', [57.2, 55.4, 59, 59, 53.6]],\n",
    "    ['Russia', [35.6, 37.4, 39.2, 41, 42.8, 39.2, 35.6]],\n",
    "    ['Poland', [50, 50, 53.6, 57.2, 55.4, 55.4]]]\n",
    "for country in  countries_temperature:\n",
    "  s_temp = country[1]\n",
    "  print('Средняя температура в странах:')\n",
    "  for i in range(len(s_temp)):\n",
    "      s_temp[i] = (s_temp[i] -32) *5/9\n",
    "  print(f\"{country[0]} - {round(sum(s_temp)/len(s_temp),1)} C\")\n",
    "    "
   ]
  },
  {
   "cell_type": "code",
   "execution_count": 30,
   "metadata": {
    "colab": {
     "base_uri": "https://localhost:8080/"
    },
    "executionInfo": {
     "elapsed": 314,
     "status": "ok",
     "timestamp": 1659857445102,
     "user": {
      "displayName": "Арина Плоткина",
      "userId": "01634519954497296051"
     },
     "user_tz": -180
    },
    "id": "TQhc1s22PlzX",
    "outputId": "42da3a76-95c9-4dc5-fd3b-0e2b813d1eee"
   },
   "outputs": [
    {
     "name": "stdout",
     "output_type": "stream",
     "text": [
      "Среднее количество просмотров на уникального пользователя: 145.33\n"
     ]
    }
   ],
   "source": [
    "# Задание 5 (необязательное)\n",
    "stream = [\n",
    "    '2018-01-01,user1,3',\n",
    "    '2018-01-07,user1,4',\n",
    "    '2018-03-29,user1,1',\n",
    "    '2018-04-04,user1,13',\n",
    "    '2018-01-05,user2,7',\n",
    "    '2018-06-14,user3,4',\n",
    "    '2018-07-02,user3,10',\n",
    "    '2018-03-21,user4,19',\n",
    "    '2018-03-22,user4,4',\n",
    "    '2018-04-22,user4,8',\n",
    "    '2018-05-03,user4,9',\n",
    "    '2018-05-11,user4,11',\n",
    "]\n",
    "stream = [\n",
    "    '2018-01-01,user100,150',\n",
    "    '2018-01-07,user99,205',\n",
    "    '2018-03-29,user1001,81'\n",
    "]\n",
    "\n",
    "set_user = set()\n",
    "sum_col = 0\n",
    "for one_stream in stream:\n",
    "  user, col = one_stream.split('user')[1].split(',')\n",
    "  set_user.add(user)\n",
    "  # print(f\"col = {col}\")\n",
    "  sum_col += int(col)\n",
    "mean_visit = round(sum_col / len(set_user),2)\n",
    "print(f\"Среднее количество просмотров на уникального пользователя: {mean_visit}\")"
   ]
  },
  {
   "cell_type": "code",
   "execution_count": null,
   "metadata": {
    "colab": {
     "base_uri": "https://localhost:8080/"
    },
    "executionInfo": {
     "elapsed": 2874,
     "status": "ok",
     "timestamp": 1659851900573,
     "user": {
      "displayName": "Арина Плоткина",
      "userId": "01634519954497296051"
     },
     "user_tz": -180
    },
    "id": "6KzI8XSsPy7a",
    "outputId": "1e70d9a4-59ce-4370-a193-ea9e904c5e67"
   },
   "outputs": [
    {
     "name": "stdout",
     "output_type": "stream",
     "text": [
      "Введите числа:10 15 15 103 200 200 200 1 1 1 1 1 2 2 2\n",
      "1 2 15 200\n"
     ]
    }
   ],
   "source": [
    "# Задание 6 (необязательное)\n",
    "s_int = input('Введите числа:')\n",
    "set_num = set()\n",
    "list_num = []\n",
    "for i in s_int.split(' '):\n",
    "    if i in list_num:\n",
    "        set_num.add(int(i))\n",
    "    list_num.append(i)\n",
    "list_num_after = list(set_num)\n",
    "list_num_after.sort()      \n",
    "print(' '.join([str(i) for i in list_num_after]))"
   ]
  }
 ],
 "metadata": {
  "colab": {
   "authorship_tag": "ABX9TyPSvNh/M3KwlYVq4buWlJSF",
   "collapsed_sections": [],
   "name": "dz_python_2.ipynb",
   "provenance": []
  },
  "kernelspec": {
   "display_name": "Python 3 (ipykernel)",
   "language": "python",
   "name": "python3"
  },
  "language_info": {
   "codemirror_mode": {
    "name": "ipython",
    "version": 3
   },
   "file_extension": ".py",
   "mimetype": "text/x-python",
   "name": "python",
   "nbconvert_exporter": "python",
   "pygments_lexer": "ipython3",
   "version": "3.8.10"
  }
 },
 "nbformat": 4,
 "nbformat_minor": 1
}
