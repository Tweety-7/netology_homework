{
  "nbformat": 4,
  "nbformat_minor": 0,
  "metadata": {
    "colab": {
      "provenance": [],
      "collapsed_sections": []
    },
    "kernelspec": {
      "name": "python3",
      "display_name": "Python 3"
    },
    "language_info": {
      "name": "python"
    }
  },
  "cells": [
    {
      "cell_type": "code",
      "execution_count": null,
      "metadata": {
        "id": "039atHpdIieF"
      },
      "outputs": [],
      "source": [
        "import pandas as pd\n",
        "import numpy as np\n"
      ]
    },
    {
      "cell_type": "markdown",
      "source": [
        "Домашнее задание к лекции «Случайные события. Случайные величины»\n",
        "\n",
        "Смоделировать игру против лотерейного автомата типа “777”. Игрок платит 1 руб., после чего выпадает случайное целое число, равномерно распределенное от 0 до 999. При некоторых значениях числа игрок получает выигрыш.\n",
        "\n",
        "777: 200 руб.\n",
        "999: 100 руб.\n",
        "555: 50 руб.\n",
        "333: 15 руб.\n",
        "111: 10 руб.\n",
        "*77: 5 руб.\n",
        "**7: 3 руб.\n",
        "*00: 2 руб.\n",
        "**0: 1 руб.\n",
        "\n",
        "Вопросы:\n",
        "\n",
        "Выгодна ли игра игроку?\n",
        "Сколько в среднем приобретает или теряет игрок за одну игру?"
      ],
      "metadata": {
        "id": "F9zoCUsLfUVb"
      }
    },
    {
      "cell_type": "code",
      "source": [
        "def one_game ():\n",
        "  rub = -1 # за каждую игру платим рубль\n",
        "  num = np.random.randint(0,1000)\n",
        "  if num == 777:\n",
        "    rub += 200\n",
        "  elif num == 999:\n",
        "    rub += 100\n",
        "  elif num == 555:\n",
        "    rub += 50\n",
        "  elif num == 333:\n",
        "    rub += 15\n",
        "  elif num == 111:\n",
        "    rub += 10\n",
        "  elif num % 100 == 77:\n",
        "    rub += 5\n",
        "  elif num % 10 == 7: #т.е *77  сюда не попадут\n",
        "    rub += 3\n",
        "  elif num % 100 == 0:\n",
        "    rub += 2\n",
        "  elif num % 10 == 0:\n",
        "    rub += 1 \n",
        "  # print(rub)\n",
        "  return rub\n",
        "\n",
        "game_col = 1000000\n",
        "rub = 0\n",
        "for i in range(game_col):\n",
        "  rub += one_game()\n",
        "\n",
        "(rub)/game_col\n",
        "# при 1000000 - потерял 19 копеек при игре в среднем\n",
        "# вывод: Игра игроку не выгодна"
      ],
      "metadata": {
        "colab": {
          "base_uri": "https://localhost:8080/"
        },
        "id": "Riyh3K75gKyV",
        "outputId": "dfc1349a-0ea9-42c0-9954-456fb555b9f0"
      },
      "execution_count": null,
      "outputs": [
        {
          "output_type": "execute_result",
          "data": {
            "text/plain": [
              "-0.19312"
            ]
          },
          "metadata": {},
          "execution_count": 21
        }
      ]
    },
    {
      "cell_type": "markdown",
      "source": [
        "Дополнительное задание повышенной сложности.\n",
        "\n",
        "Теоретически рассчитать средний выигрыш (проигрыш) и сравнить с результатами моделирования\n",
        "\n",
        "звездочка * – любая цифра"
      ],
      "metadata": {
        "id": "cjmtA7O9fab3"
      }
    },
    {
      "cell_type": "code",
      "source": [
        "# кол-во вариантов 0 .. 999] = 1000 шт\n",
        "\n",
        "# 205 -выигрышных => 795 - проигрыш = -1руб\n",
        "# теоретический средний выигрыш:\n",
        "\n",
        "((1 * 200) + (1 * 100) + (1 * 50) + (1 * 15) + (1 * 10) + (10 * 5) + (90* 3) + (10 * 2) + (90 * 1) - (795))/1000\n",
        "\n",
        "# 19 копеек средний проигрыш\n",
        "# вывод: теоретические данные совпадают с моделированными , лучше не играть"
      ],
      "metadata": {
        "id": "TBSqM0aKd9AG",
        "colab": {
          "base_uri": "https://localhost:8080/"
        },
        "outputId": "a567eaaf-b4e0-41b1-e3dc-05cf0eaa94db"
      },
      "execution_count": null,
      "outputs": [
        {
          "output_type": "execute_result",
          "data": {
            "text/plain": [
              "-0.19499999999999995"
            ]
          },
          "metadata": {},
          "execution_count": 9
        }
      ]
    }
  ]
}