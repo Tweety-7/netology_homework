{
  "cells": [
    {
      "cell_type": "code",
      "execution_count": null,
      "id": "f3a0ee04",
      "metadata": {
        "colab": {
          "base_uri": "https://localhost:8080/"
        },
        "id": "f3a0ee04",
        "outputId": "ed6bd436-f336-4db8-cd87-b6426f156683"
      },
      "outputs": [
        {
          "output_type": "stream",
          "name": "stdout",
          "text": [
            "Фразы равной длины\n"
          ]
        }
      ],
      "source": [
        "# Задание 1\n",
        "# phrase_1 = 'Насколько проще было бы писать программы, если бы не заказчики'\n",
        "# phrase_2 = '640Кб должно хватить для любых задач. Билл Гейтс (по легенде)'\n",
        "# phrase_1 = '640Кб должно хватить для любых задач. Билл Гейтс (по легенде)'\n",
        "# phrase_2 = 'Насколько проще было бы писать программы, если бы не заказчики'\n",
        "phrase_1 = 'Насколько проще было бы писать программы, если бы не заказчики'\n",
        "phrase_2 = 'Насколько проще было бы писать программы, если бы не заказчики'\n",
        "if len(phrase_1) > len(phrase_2):\n",
        "    print('Фраза 1 длиннее фразы 2')\n",
        "elif len(phrase_2) > len(phrase_1):\n",
        "    print('Фраза 2 длиннее фразы 1')\n",
        "else:\n",
        "    print('Фразы равной длины')"
      ]
    },
    {
      "cell_type": "code",
      "execution_count": null,
      "id": "a87e11ba",
      "metadata": {
        "colab": {
          "base_uri": "https://localhost:8080/"
        },
        "id": "a87e11ba",
        "outputId": "a3fc432e-fbd1-4f4d-fa03-9c06071d1575"
      },
      "outputs": [
        {
          "output_type": "stream",
          "name": "stdout",
          "text": [
            "Високосный год\n"
          ]
        }
      ],
      "source": [
        "# Задание 2\n",
        "# Високосный  - делится на 4, но не делится на 100.\n",
        "# или если делится на 400\n",
        "\n",
        "year = 2000\n",
        "if (year %4 == 0 and year % 100 != 0) or (year % 400 == 0):\n",
        "    print('Високосный год')\n",
        "else:\n",
        "    print('Обычный год')\n"
      ]
    },
    {
      "cell_type": "code",
      "execution_count": null,
      "id": "141ab004",
      "metadata": {
        "colab": {
          "base_uri": "https://localhost:8080/"
        },
        "id": "141ab004",
        "outputId": "f7977584-54b6-4079-b935-f99a9fe4f600"
      },
      "outputs": [
        {
          "output_type": "stream",
          "name": "stdout",
          "text": [
            "Введите день: 8\n",
            "Введите месяц: Май\n",
            "Ваш знак зодиака: Телец\n"
          ]
        }
      ],
      "source": [
        "# Задание 3\n",
        "str = 'Ваш знак зодиака: '\n",
        "# выводить соответствующий знак зодиака\n",
        "day = int(input('Введите день: '))\n",
        "mounth = input('Введите месяц: ')\n",
        "\n",
        "if (mounth == 'Декабрь' and day >= 22) or (mounth == 'Январь' and day <= 20):\n",
        "#     print('Ваш знак зодиака: Козерог')\n",
        "    str += 'Козерог'\n",
        "elif (mounth == 'Январь' and day >= 21) or(mounth == 'Февраль' and day <= 19):\n",
        "#     print('Ваш знак зодиака: Водолей')\n",
        "    str += 'Водолей'\n",
        "elif (mounth == 'Февраль' and day >= 20) or(mounth == 'Март' and day <= 20):\n",
        "#     print('Ваш знак зодиака: Рыбы')\n",
        "    str += 'Рыбы'\n",
        "elif (mounth == 'Март' and day >= 21) or(mounth == 'Апрель' and day <= 20):\n",
        "#     print('Ваш знак зодиака: Овен')\n",
        "    str += 'Овен'\n",
        "elif (mounth == 'Апрель' and day >= 21) or(mounth == 'Май' and day <= 20):\n",
        "#     print('Ваш знак зодиака: Телец')\n",
        "    str += 'Телец'\n",
        "elif (mounth == 'Май' and day >= 21) or(mounth == 'Июнь' and day <= 21):\n",
        "#     print('Ваш знак зодиака: Близнецы')\n",
        "    str += 'Близнецы'\n",
        "elif (mounth == 'Июнь' and day >= 22) or(mounth == 'Июль' and day <= 22):\n",
        "#     print('Ваш знак зодиака: Рак')\n",
        "    str += 'Рак'\n",
        "elif (mounth == 'Июль' and day >= 23) or(mounth == 'Август' and day <= 23):\n",
        "#     print('Ваш знак зодиака: Лев')\n",
        "    str += 'Лев'\n",
        "elif (mounth == 'Август' and day >= 24) or(mounth == 'Сентябрь' and day <= 23):\n",
        "#     print('Ваш знак зодиака: Дева')\n",
        "    str += 'Дева'\n",
        "elif (mounth == 'Сентябрь' and day >= 24) or(mounth == 'Октябрь' and day <= 23):\n",
        "#     print('Ваш знак зодиака: Весы')\n",
        "    str += 'Весы'\n",
        "elif (mounth == 'Октябрь' and day >= 24) or(mounth == 'Ноябрь' and day <= 22):\n",
        "#     print('Ваш знак зодиака: Скорпион')\n",
        "    str += 'Скорпион'\n",
        "elif (mounth == 'Ноябрь' and day >= 23) or(mounth == 'Декабрь' and day <= 21):\n",
        "#     print('Ваш знак зодиака: Стрелец')\n",
        "    str += 'Стрелец'\n",
        "else:\n",
        "    str = 'error: некоректный ввод'\n",
        "print(str)"
      ]
    },
    {
      "cell_type": "code",
      "execution_count": null,
      "id": "fe2b5513",
      "metadata": {
        "colab": {
          "base_uri": "https://localhost:8080/"
        },
        "id": "fe2b5513",
        "outputId": "104aed4d-6288-4f7b-ff06-36b95161f9b1"
      },
      "outputs": [
        {
          "output_type": "stream",
          "name": "stdout",
          "text": [
            "Стандартная коробка №3\n"
          ]
        }
      ],
      "source": [
        "# Задание 4\n",
        "width = 15\n",
        "length = 50\n",
        "height = 15\n",
        "if (width <= 15 and length <= 15 and height <= 15):\n",
        "    print('Коробка №1')\n",
        "elif (width < 50 and length < 50 and height < 50):\n",
        "    print('Коробка №2')\n",
        "elif(length > 200):\n",
        "    print('Ищите упаковку для лыж')\n",
        "else:\n",
        "  print('Стандартная коробка №3')  \n"
      ]
    },
    {
      "cell_type": "code",
      "execution_count": null,
      "id": "bad29179",
      "metadata": {
        "colab": {
          "base_uri": "https://localhost:8080/"
        },
        "id": "bad29179",
        "outputId": "336fd014-2e29-4892-fc9c-c22fb3545fdf"
      },
      "outputs": [
        {
          "output_type": "stream",
          "name": "stdout",
          "text": [
            "Счастливый билет\n"
          ]
        }
      ],
      "source": [
        "# Задание 5 (необязательное)\n",
        "number = 123321\n",
        "# правая половина\n",
        "sum_right = number % 10\n",
        "number = number//10\n",
        "sum_right += number % 10\n",
        "number = number // 10\n",
        "sum_right += number % 10\n",
        "number = number // 10\n",
        "# левая половина\n",
        "sum_left = number % 10\n",
        "number = number //10\n",
        "sum_left += number % 10\n",
        "number = number //10\n",
        "sum_left += number\n",
        "\n",
        "if sum_right == sum_left:\n",
        "    print('Счастливый билет')\n",
        "else:\n",
        "    print('Несчастливый билет')"
      ]
    },
    {
      "cell_type": "code",
      "execution_count": null,
      "id": "1e8cf91d",
      "metadata": {
        "colab": {
          "base_uri": "https://localhost:8080/"
        },
        "id": "1e8cf91d",
        "outputId": "72d75fa5-b2e4-4250-8159-2ba971ff6948"
      },
      "outputs": [
        {
          "output_type": "stream",
          "name": "stdout",
          "text": [
            "Введите тип фигуры: Круг\n",
            "Введите радиус круга: 10\n",
            "Площадь круга: 314.1592653589793\n",
            "314.1592653589793\n"
          ]
        }
      ],
      "source": [
        "# Задание 6 (необязательное)\n",
        "import math\n",
        "figure = input('Введите тип фигуры: ')\n",
        "if figure == 'Круг':\n",
        "    radius = int(input('Введите радиус круга: '))\n",
        "    S = math.pi * radius**2\n",
        "    print('Площадь круга:', S)\n",
        "elif figure == 'Треугольник':\n",
        "    s_a = int(input('Введите длину стороны A: '))\n",
        "    s_b = int(input('Введите длину стороны B: '))\n",
        "    s_c = int(input('Введите длину стороны C: '))\n",
        "#     формула Герона, р - полупериметр\n",
        "    p = (s_a + s_b + s_c)/2    \n",
        "    S = (p*(p-s_a)*(p-s_b)*(p-s_c))**(1/2)\n",
        "    print('Площадь треугольника:', S)\n",
        "elif figure == 'Прямоугольник':\n",
        "    s_a = int(input('Введите длину стороны A: '))\n",
        "    s_b = int(input('Введите длину стороны B: '))\n",
        "    S = s_a*s_b\n",
        "    print('Площадь прямоугольника:', S)\n",
        "else:\n",
        "    print('Неизвестная фигура')\n",
        "# print(S)\n",
        "    \n",
        "    \n"
      ]
    }
  ],
  "metadata": {
    "kernelspec": {
      "display_name": "Python 3 (ipykernel)",
      "language": "python",
      "name": "python3"
    },
    "language_info": {
      "codemirror_mode": {
        "name": "ipython",
        "version": 3
      },
      "file_extension": ".py",
      "mimetype": "text/x-python",
      "name": "python",
      "nbconvert_exporter": "python",
      "pygments_lexer": "ipython3",
      "version": "3.8.10"
    },
    "colab": {
      "provenance": [],
      "collapsed_sections": []
    }
  },
  "nbformat": 4,
  "nbformat_minor": 5
}