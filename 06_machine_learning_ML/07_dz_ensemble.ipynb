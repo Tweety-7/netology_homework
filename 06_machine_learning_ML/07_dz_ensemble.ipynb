{
  "nbformat": 4,
  "nbformat_minor": 0,
  "metadata": {
    "colab": {
      "provenance": []
    },
    "kernelspec": {
      "name": "python3",
      "display_name": "Python 3"
    },
    "language_info": {
      "name": "python"
    }
  },
  "cells": [
    {
      "cell_type": "code",
      "execution_count": null,
      "metadata": {
        "id": "2eaoMrAETZGB"
      },
      "outputs": [],
      "source": []
    },
    {
      "cell_type": "markdown",
      "source": [
        "Цель: применить на практике базовые ансамблевые методы\n",
        "\n",
        "Описание задания:\n",
        "В домашнем задании нужно решить задачу классификации наличия болезни сердца у пациентов. Данные для обучения моделей необходимо загрузить самостоятельно с сайта. Целевая переменная – наличие болезни сердца (HeartDisease), принимает значения 0 или 1 в зависимости от отсутствия или наличия болезни соответственно. (Подробнее о признаках можно прочесть в описании датасета на сайте. Для выполнения работы не обязательно вникать в медицинские показатели.)"
      ],
      "metadata": {
        "id": "c1RZsbFWTlJI"
      }
    },
    {
      "cell_type": "code",
      "source": [
        "import pandas as pd\n",
        "import numpy as np\n",
        "import matplotlib.pyplot as plt"
      ],
      "metadata": {
        "id": "tBsC1mKoTlVn"
      },
      "execution_count": null,
      "outputs": []
    },
    {
      "cell_type": "markdown",
      "source": [
        "1. Получите данные и загрузите их в рабочую среду. (Jupyter Notebook или другую)"
      ],
      "metadata": {
        "id": "S4qk8OV7Tle4"
      }
    },
    {
      "cell_type": "code",
      "source": [
        "data = pd.read_csv(\"/content/heart.csv\")\n",
        "data.head()"
      ],
      "metadata": {
        "colab": {
          "base_uri": "https://localhost:8080/",
          "height": 270
        },
        "id": "McNVskkDTllu",
        "outputId": "2158c03b-985f-4f7e-b8f9-600619abeebe"
      },
      "execution_count": null,
      "outputs": [
        {
          "output_type": "execute_result",
          "data": {
            "text/plain": [
              "   Age Sex ChestPainType  RestingBP  Cholesterol  FastingBS RestingECG  MaxHR  \\\n",
              "0   40   M           ATA        140          289          0     Normal    172   \n",
              "1   49   F           NAP        160          180          0     Normal    156   \n",
              "2   37   M           ATA        130          283          0         ST     98   \n",
              "3   48   F           ASY        138          214          0     Normal    108   \n",
              "4   54   M           NAP        150          195          0     Normal    122   \n",
              "\n",
              "  ExerciseAngina  Oldpeak ST_Slope  HeartDisease  \n",
              "0              N      0.0       Up             0  \n",
              "1              N      1.0     Flat             1  \n",
              "2              N      0.0       Up             0  \n",
              "3              Y      1.5     Flat             1  \n",
              "4              N      0.0       Up             0  "
            ],
            "text/html": [
              "\n",
              "  <div id=\"df-ae02cce8-5766-4ce2-a0c8-aafe43631b71\">\n",
              "    <div class=\"colab-df-container\">\n",
              "      <div>\n",
              "<style scoped>\n",
              "    .dataframe tbody tr th:only-of-type {\n",
              "        vertical-align: middle;\n",
              "    }\n",
              "\n",
              "    .dataframe tbody tr th {\n",
              "        vertical-align: top;\n",
              "    }\n",
              "\n",
              "    .dataframe thead th {\n",
              "        text-align: right;\n",
              "    }\n",
              "</style>\n",
              "<table border=\"1\" class=\"dataframe\">\n",
              "  <thead>\n",
              "    <tr style=\"text-align: right;\">\n",
              "      <th></th>\n",
              "      <th>Age</th>\n",
              "      <th>Sex</th>\n",
              "      <th>ChestPainType</th>\n",
              "      <th>RestingBP</th>\n",
              "      <th>Cholesterol</th>\n",
              "      <th>FastingBS</th>\n",
              "      <th>RestingECG</th>\n",
              "      <th>MaxHR</th>\n",
              "      <th>ExerciseAngina</th>\n",
              "      <th>Oldpeak</th>\n",
              "      <th>ST_Slope</th>\n",
              "      <th>HeartDisease</th>\n",
              "    </tr>\n",
              "  </thead>\n",
              "  <tbody>\n",
              "    <tr>\n",
              "      <th>0</th>\n",
              "      <td>40</td>\n",
              "      <td>M</td>\n",
              "      <td>ATA</td>\n",
              "      <td>140</td>\n",
              "      <td>289</td>\n",
              "      <td>0</td>\n",
              "      <td>Normal</td>\n",
              "      <td>172</td>\n",
              "      <td>N</td>\n",
              "      <td>0.0</td>\n",
              "      <td>Up</td>\n",
              "      <td>0</td>\n",
              "    </tr>\n",
              "    <tr>\n",
              "      <th>1</th>\n",
              "      <td>49</td>\n",
              "      <td>F</td>\n",
              "      <td>NAP</td>\n",
              "      <td>160</td>\n",
              "      <td>180</td>\n",
              "      <td>0</td>\n",
              "      <td>Normal</td>\n",
              "      <td>156</td>\n",
              "      <td>N</td>\n",
              "      <td>1.0</td>\n",
              "      <td>Flat</td>\n",
              "      <td>1</td>\n",
              "    </tr>\n",
              "    <tr>\n",
              "      <th>2</th>\n",
              "      <td>37</td>\n",
              "      <td>M</td>\n",
              "      <td>ATA</td>\n",
              "      <td>130</td>\n",
              "      <td>283</td>\n",
              "      <td>0</td>\n",
              "      <td>ST</td>\n",
              "      <td>98</td>\n",
              "      <td>N</td>\n",
              "      <td>0.0</td>\n",
              "      <td>Up</td>\n",
              "      <td>0</td>\n",
              "    </tr>\n",
              "    <tr>\n",
              "      <th>3</th>\n",
              "      <td>48</td>\n",
              "      <td>F</td>\n",
              "      <td>ASY</td>\n",
              "      <td>138</td>\n",
              "      <td>214</td>\n",
              "      <td>0</td>\n",
              "      <td>Normal</td>\n",
              "      <td>108</td>\n",
              "      <td>Y</td>\n",
              "      <td>1.5</td>\n",
              "      <td>Flat</td>\n",
              "      <td>1</td>\n",
              "    </tr>\n",
              "    <tr>\n",
              "      <th>4</th>\n",
              "      <td>54</td>\n",
              "      <td>M</td>\n",
              "      <td>NAP</td>\n",
              "      <td>150</td>\n",
              "      <td>195</td>\n",
              "      <td>0</td>\n",
              "      <td>Normal</td>\n",
              "      <td>122</td>\n",
              "      <td>N</td>\n",
              "      <td>0.0</td>\n",
              "      <td>Up</td>\n",
              "      <td>0</td>\n",
              "    </tr>\n",
              "  </tbody>\n",
              "</table>\n",
              "</div>\n",
              "      <button class=\"colab-df-convert\" onclick=\"convertToInteractive('df-ae02cce8-5766-4ce2-a0c8-aafe43631b71')\"\n",
              "              title=\"Convert this dataframe to an interactive table.\"\n",
              "              style=\"display:none;\">\n",
              "        \n",
              "  <svg xmlns=\"http://www.w3.org/2000/svg\" height=\"24px\"viewBox=\"0 0 24 24\"\n",
              "       width=\"24px\">\n",
              "    <path d=\"M0 0h24v24H0V0z\" fill=\"none\"/>\n",
              "    <path d=\"M18.56 5.44l.94 2.06.94-2.06 2.06-.94-2.06-.94-.94-2.06-.94 2.06-2.06.94zm-11 1L8.5 8.5l.94-2.06 2.06-.94-2.06-.94L8.5 2.5l-.94 2.06-2.06.94zm10 10l.94 2.06.94-2.06 2.06-.94-2.06-.94-.94-2.06-.94 2.06-2.06.94z\"/><path d=\"M17.41 7.96l-1.37-1.37c-.4-.4-.92-.59-1.43-.59-.52 0-1.04.2-1.43.59L10.3 9.45l-7.72 7.72c-.78.78-.78 2.05 0 2.83L4 21.41c.39.39.9.59 1.41.59.51 0 1.02-.2 1.41-.59l7.78-7.78 2.81-2.81c.8-.78.8-2.07 0-2.86zM5.41 20L4 18.59l7.72-7.72 1.47 1.35L5.41 20z\"/>\n",
              "  </svg>\n",
              "      </button>\n",
              "      \n",
              "  <style>\n",
              "    .colab-df-container {\n",
              "      display:flex;\n",
              "      flex-wrap:wrap;\n",
              "      gap: 12px;\n",
              "    }\n",
              "\n",
              "    .colab-df-convert {\n",
              "      background-color: #E8F0FE;\n",
              "      border: none;\n",
              "      border-radius: 50%;\n",
              "      cursor: pointer;\n",
              "      display: none;\n",
              "      fill: #1967D2;\n",
              "      height: 32px;\n",
              "      padding: 0 0 0 0;\n",
              "      width: 32px;\n",
              "    }\n",
              "\n",
              "    .colab-df-convert:hover {\n",
              "      background-color: #E2EBFA;\n",
              "      box-shadow: 0px 1px 2px rgba(60, 64, 67, 0.3), 0px 1px 3px 1px rgba(60, 64, 67, 0.15);\n",
              "      fill: #174EA6;\n",
              "    }\n",
              "\n",
              "    [theme=dark] .colab-df-convert {\n",
              "      background-color: #3B4455;\n",
              "      fill: #D2E3FC;\n",
              "    }\n",
              "\n",
              "    [theme=dark] .colab-df-convert:hover {\n",
              "      background-color: #434B5C;\n",
              "      box-shadow: 0px 1px 3px 1px rgba(0, 0, 0, 0.15);\n",
              "      filter: drop-shadow(0px 1px 2px rgba(0, 0, 0, 0.3));\n",
              "      fill: #FFFFFF;\n",
              "    }\n",
              "  </style>\n",
              "\n",
              "      <script>\n",
              "        const buttonEl =\n",
              "          document.querySelector('#df-ae02cce8-5766-4ce2-a0c8-aafe43631b71 button.colab-df-convert');\n",
              "        buttonEl.style.display =\n",
              "          google.colab.kernel.accessAllowed ? 'block' : 'none';\n",
              "\n",
              "        async function convertToInteractive(key) {\n",
              "          const element = document.querySelector('#df-ae02cce8-5766-4ce2-a0c8-aafe43631b71');\n",
              "          const dataTable =\n",
              "            await google.colab.kernel.invokeFunction('convertToInteractive',\n",
              "                                                     [key], {});\n",
              "          if (!dataTable) return;\n",
              "\n",
              "          const docLinkHtml = 'Like what you see? Visit the ' +\n",
              "            '<a target=\"_blank\" href=https://colab.research.google.com/notebooks/data_table.ipynb>data table notebook</a>'\n",
              "            + ' to learn more about interactive tables.';\n",
              "          element.innerHTML = '';\n",
              "          dataTable['output_type'] = 'display_data';\n",
              "          await google.colab.output.renderOutput(dataTable, element);\n",
              "          const docLink = document.createElement('div');\n",
              "          docLink.innerHTML = docLinkHtml;\n",
              "          element.appendChild(docLink);\n",
              "        }\n",
              "      </script>\n",
              "    </div>\n",
              "  </div>\n",
              "  "
            ]
          },
          "metadata": {},
          "execution_count": 58
        }
      ]
    },
    {
      "cell_type": "code",
      "source": [
        "data.isna().sum()"
      ],
      "metadata": {
        "colab": {
          "base_uri": "https://localhost:8080/"
        },
        "id": "5yQKqrjiXZZ9",
        "outputId": "385c6839-aa1c-4d8f-910e-7d6400c2b4ed"
      },
      "execution_count": null,
      "outputs": [
        {
          "output_type": "execute_result",
          "data": {
            "text/plain": [
              "Age               0\n",
              "Sex               0\n",
              "ChestPainType     0\n",
              "RestingBP         0\n",
              "Cholesterol       0\n",
              "FastingBS         0\n",
              "RestingECG        0\n",
              "MaxHR             0\n",
              "ExerciseAngina    0\n",
              "Oldpeak           0\n",
              "ST_Slope          0\n",
              "HeartDisease      0\n",
              "dtype: int64"
            ]
          },
          "metadata": {},
          "execution_count": 59
        }
      ]
    },
    {
      "cell_type": "markdown",
      "source": [
        "2. Подготовьте датасет к обучению моделей.\n",
        "a) Категориальные переменные переведите в цифровые значения. Можно использовать pd.get_dummies, preprocessing.LabelEncoder. Старайтесь не использовать для этой задачи циклы.\n",
        "b) *Постройте 1-2 графика на выбор. Визуализация должна быть основана на исследуемых данных и быть полезной (из графика можно сделать вывод об особенностях датасета/класса/признака)."
      ],
      "metadata": {
        "id": "R4tN_TyKTywW"
      }
    },
    {
      "cell_type": "code",
      "source": [
        "\"\"\"\n",
        "a) Категориальные переменные переведите в \n",
        "цифровые значения. \n",
        "Можно использовать pd.get_dummies, \n",
        "preprocessing.LabelEncoder. Старайтесь не использовать для этой задачи циклы.\n",
        "\"\"\"\n",
        "\n",
        "categorical = ['Sex', 'ChestPainType','RestingECG', 'ExerciseAngina', 'ST_Slope']\n",
        "df_dum = pd.get_dummies(data, columns = categorical, drop_first = True)\n",
        "df_dum.head()"
      ],
      "metadata": {
        "colab": {
          "base_uri": "https://localhost:8080/",
          "height": 270
        },
        "id": "t4Fab1TDTy3c",
        "outputId": "9962c1e8-da0f-414d-a29d-b4434078a2dd"
      },
      "execution_count": null,
      "outputs": [
        {
          "output_type": "execute_result",
          "data": {
            "text/plain": [
              "   Age  RestingBP  Cholesterol  FastingBS  MaxHR  Oldpeak  HeartDisease  \\\n",
              "0   40        140          289          0    172      0.0             0   \n",
              "1   49        160          180          0    156      1.0             1   \n",
              "2   37        130          283          0     98      0.0             0   \n",
              "3   48        138          214          0    108      1.5             1   \n",
              "4   54        150          195          0    122      0.0             0   \n",
              "\n",
              "   Sex_M  ChestPainType_ATA  ChestPainType_NAP  ChestPainType_TA  \\\n",
              "0      1                  1                  0                 0   \n",
              "1      0                  0                  1                 0   \n",
              "2      1                  1                  0                 0   \n",
              "3      0                  0                  0                 0   \n",
              "4      1                  0                  1                 0   \n",
              "\n",
              "   RestingECG_Normal  RestingECG_ST  ExerciseAngina_Y  ST_Slope_Flat  \\\n",
              "0                  1              0                 0              0   \n",
              "1                  1              0                 0              1   \n",
              "2                  0              1                 0              0   \n",
              "3                  1              0                 1              1   \n",
              "4                  1              0                 0              0   \n",
              "\n",
              "   ST_Slope_Up  \n",
              "0            1  \n",
              "1            0  \n",
              "2            1  \n",
              "3            0  \n",
              "4            1  "
            ],
            "text/html": [
              "\n",
              "  <div id=\"df-88282b39-194f-431f-8322-e57d5aef1e32\">\n",
              "    <div class=\"colab-df-container\">\n",
              "      <div>\n",
              "<style scoped>\n",
              "    .dataframe tbody tr th:only-of-type {\n",
              "        vertical-align: middle;\n",
              "    }\n",
              "\n",
              "    .dataframe tbody tr th {\n",
              "        vertical-align: top;\n",
              "    }\n",
              "\n",
              "    .dataframe thead th {\n",
              "        text-align: right;\n",
              "    }\n",
              "</style>\n",
              "<table border=\"1\" class=\"dataframe\">\n",
              "  <thead>\n",
              "    <tr style=\"text-align: right;\">\n",
              "      <th></th>\n",
              "      <th>Age</th>\n",
              "      <th>RestingBP</th>\n",
              "      <th>Cholesterol</th>\n",
              "      <th>FastingBS</th>\n",
              "      <th>MaxHR</th>\n",
              "      <th>Oldpeak</th>\n",
              "      <th>HeartDisease</th>\n",
              "      <th>Sex_M</th>\n",
              "      <th>ChestPainType_ATA</th>\n",
              "      <th>ChestPainType_NAP</th>\n",
              "      <th>ChestPainType_TA</th>\n",
              "      <th>RestingECG_Normal</th>\n",
              "      <th>RestingECG_ST</th>\n",
              "      <th>ExerciseAngina_Y</th>\n",
              "      <th>ST_Slope_Flat</th>\n",
              "      <th>ST_Slope_Up</th>\n",
              "    </tr>\n",
              "  </thead>\n",
              "  <tbody>\n",
              "    <tr>\n",
              "      <th>0</th>\n",
              "      <td>40</td>\n",
              "      <td>140</td>\n",
              "      <td>289</td>\n",
              "      <td>0</td>\n",
              "      <td>172</td>\n",
              "      <td>0.0</td>\n",
              "      <td>0</td>\n",
              "      <td>1</td>\n",
              "      <td>1</td>\n",
              "      <td>0</td>\n",
              "      <td>0</td>\n",
              "      <td>1</td>\n",
              "      <td>0</td>\n",
              "      <td>0</td>\n",
              "      <td>0</td>\n",
              "      <td>1</td>\n",
              "    </tr>\n",
              "    <tr>\n",
              "      <th>1</th>\n",
              "      <td>49</td>\n",
              "      <td>160</td>\n",
              "      <td>180</td>\n",
              "      <td>0</td>\n",
              "      <td>156</td>\n",
              "      <td>1.0</td>\n",
              "      <td>1</td>\n",
              "      <td>0</td>\n",
              "      <td>0</td>\n",
              "      <td>1</td>\n",
              "      <td>0</td>\n",
              "      <td>1</td>\n",
              "      <td>0</td>\n",
              "      <td>0</td>\n",
              "      <td>1</td>\n",
              "      <td>0</td>\n",
              "    </tr>\n",
              "    <tr>\n",
              "      <th>2</th>\n",
              "      <td>37</td>\n",
              "      <td>130</td>\n",
              "      <td>283</td>\n",
              "      <td>0</td>\n",
              "      <td>98</td>\n",
              "      <td>0.0</td>\n",
              "      <td>0</td>\n",
              "      <td>1</td>\n",
              "      <td>1</td>\n",
              "      <td>0</td>\n",
              "      <td>0</td>\n",
              "      <td>0</td>\n",
              "      <td>1</td>\n",
              "      <td>0</td>\n",
              "      <td>0</td>\n",
              "      <td>1</td>\n",
              "    </tr>\n",
              "    <tr>\n",
              "      <th>3</th>\n",
              "      <td>48</td>\n",
              "      <td>138</td>\n",
              "      <td>214</td>\n",
              "      <td>0</td>\n",
              "      <td>108</td>\n",
              "      <td>1.5</td>\n",
              "      <td>1</td>\n",
              "      <td>0</td>\n",
              "      <td>0</td>\n",
              "      <td>0</td>\n",
              "      <td>0</td>\n",
              "      <td>1</td>\n",
              "      <td>0</td>\n",
              "      <td>1</td>\n",
              "      <td>1</td>\n",
              "      <td>0</td>\n",
              "    </tr>\n",
              "    <tr>\n",
              "      <th>4</th>\n",
              "      <td>54</td>\n",
              "      <td>150</td>\n",
              "      <td>195</td>\n",
              "      <td>0</td>\n",
              "      <td>122</td>\n",
              "      <td>0.0</td>\n",
              "      <td>0</td>\n",
              "      <td>1</td>\n",
              "      <td>0</td>\n",
              "      <td>1</td>\n",
              "      <td>0</td>\n",
              "      <td>1</td>\n",
              "      <td>0</td>\n",
              "      <td>0</td>\n",
              "      <td>0</td>\n",
              "      <td>1</td>\n",
              "    </tr>\n",
              "  </tbody>\n",
              "</table>\n",
              "</div>\n",
              "      <button class=\"colab-df-convert\" onclick=\"convertToInteractive('df-88282b39-194f-431f-8322-e57d5aef1e32')\"\n",
              "              title=\"Convert this dataframe to an interactive table.\"\n",
              "              style=\"display:none;\">\n",
              "        \n",
              "  <svg xmlns=\"http://www.w3.org/2000/svg\" height=\"24px\"viewBox=\"0 0 24 24\"\n",
              "       width=\"24px\">\n",
              "    <path d=\"M0 0h24v24H0V0z\" fill=\"none\"/>\n",
              "    <path d=\"M18.56 5.44l.94 2.06.94-2.06 2.06-.94-2.06-.94-.94-2.06-.94 2.06-2.06.94zm-11 1L8.5 8.5l.94-2.06 2.06-.94-2.06-.94L8.5 2.5l-.94 2.06-2.06.94zm10 10l.94 2.06.94-2.06 2.06-.94-2.06-.94-.94-2.06-.94 2.06-2.06.94z\"/><path d=\"M17.41 7.96l-1.37-1.37c-.4-.4-.92-.59-1.43-.59-.52 0-1.04.2-1.43.59L10.3 9.45l-7.72 7.72c-.78.78-.78 2.05 0 2.83L4 21.41c.39.39.9.59 1.41.59.51 0 1.02-.2 1.41-.59l7.78-7.78 2.81-2.81c.8-.78.8-2.07 0-2.86zM5.41 20L4 18.59l7.72-7.72 1.47 1.35L5.41 20z\"/>\n",
              "  </svg>\n",
              "      </button>\n",
              "      \n",
              "  <style>\n",
              "    .colab-df-container {\n",
              "      display:flex;\n",
              "      flex-wrap:wrap;\n",
              "      gap: 12px;\n",
              "    }\n",
              "\n",
              "    .colab-df-convert {\n",
              "      background-color: #E8F0FE;\n",
              "      border: none;\n",
              "      border-radius: 50%;\n",
              "      cursor: pointer;\n",
              "      display: none;\n",
              "      fill: #1967D2;\n",
              "      height: 32px;\n",
              "      padding: 0 0 0 0;\n",
              "      width: 32px;\n",
              "    }\n",
              "\n",
              "    .colab-df-convert:hover {\n",
              "      background-color: #E2EBFA;\n",
              "      box-shadow: 0px 1px 2px rgba(60, 64, 67, 0.3), 0px 1px 3px 1px rgba(60, 64, 67, 0.15);\n",
              "      fill: #174EA6;\n",
              "    }\n",
              "\n",
              "    [theme=dark] .colab-df-convert {\n",
              "      background-color: #3B4455;\n",
              "      fill: #D2E3FC;\n",
              "    }\n",
              "\n",
              "    [theme=dark] .colab-df-convert:hover {\n",
              "      background-color: #434B5C;\n",
              "      box-shadow: 0px 1px 3px 1px rgba(0, 0, 0, 0.15);\n",
              "      filter: drop-shadow(0px 1px 2px rgba(0, 0, 0, 0.3));\n",
              "      fill: #FFFFFF;\n",
              "    }\n",
              "  </style>\n",
              "\n",
              "      <script>\n",
              "        const buttonEl =\n",
              "          document.querySelector('#df-88282b39-194f-431f-8322-e57d5aef1e32 button.colab-df-convert');\n",
              "        buttonEl.style.display =\n",
              "          google.colab.kernel.accessAllowed ? 'block' : 'none';\n",
              "\n",
              "        async function convertToInteractive(key) {\n",
              "          const element = document.querySelector('#df-88282b39-194f-431f-8322-e57d5aef1e32');\n",
              "          const dataTable =\n",
              "            await google.colab.kernel.invokeFunction('convertToInteractive',\n",
              "                                                     [key], {});\n",
              "          if (!dataTable) return;\n",
              "\n",
              "          const docLinkHtml = 'Like what you see? Visit the ' +\n",
              "            '<a target=\"_blank\" href=https://colab.research.google.com/notebooks/data_table.ipynb>data table notebook</a>'\n",
              "            + ' to learn more about interactive tables.';\n",
              "          element.innerHTML = '';\n",
              "          dataTable['output_type'] = 'display_data';\n",
              "          await google.colab.output.renderOutput(dataTable, element);\n",
              "          const docLink = document.createElement('div');\n",
              "          docLink.innerHTML = docLinkHtml;\n",
              "          element.appendChild(docLink);\n",
              "        }\n",
              "      </script>\n",
              "    </div>\n",
              "  </div>\n",
              "  "
            ]
          },
          "metadata": {},
          "execution_count": 60
        }
      ]
    },
    {
      "cell_type": "code",
      "source": [
        "\"\"\"\n",
        " b) *Постройте 1-2 графика на выбор. \n",
        " Визуализация должна быть основана \n",
        " на исследуемых данных и быть полезной \n",
        " (из графика можно сделать вывод об особенностях датасета/класса/признака).\n",
        "\"\"\"\n",
        "data_0 = data[data['HeartDisease'] == 0]\n",
        "data_1 = data[data['HeartDisease'] == 1]\n",
        "# data_0.head()\n",
        "plt.scatter(range(len(data_0)),data_0['Age'], label = 'Здоровые')\n",
        "plt.scatter( range(len(data_1)), data_1['Age'], label = 'больные')\n",
        "plt.legend();\n",
        "plt.ylabel('Age');\n",
        "plt.title('распределение больных и здоровых, от возраста');\n",
        "# => в возрасте < 30 нет больных сердец,\n",
        "# а при > 70  здоровых меньше больных."
      ],
      "metadata": {
        "colab": {
          "base_uri": "https://localhost:8080/",
          "height": 281
        },
        "id": "ku0HEysva9dc",
        "outputId": "70b92eb7-8610-41fb-f046-210cf5dc8c25"
      },
      "execution_count": null,
      "outputs": [
        {
          "output_type": "display_data",
          "data": {
            "text/plain": [
              "<Figure size 432x288 with 1 Axes>"
            ],
            "image/png": "[encoded data removed]"
          },
          "metadata": {
            "needs_background": "light"
          }
        }
      ]
    },
    {
      "cell_type": "code",
      "source": [
        "plt.hist(data_0['Sex'], color='blue', label = 'больные');\n",
        "plt.hist(data_1['Sex'], color='red', label = 'здоровые', alpha=0.5 );\n",
        "plt.legend();\n",
        "plt.title('распределение больных и здоровых, от пола');\n",
        "plt.ylabel('кол-во');\n",
        "# неприятно, больных женщин больше здоровых, а у мужчин наоборот."
      ],
      "metadata": {
        "colab": {
          "base_uri": "https://localhost:8080/",
          "height": 281
        },
        "id": "-AbV-2dmmb0g",
        "outputId": "9142b95e-104e-4eff-b6f6-a471de7275ec"
      },
      "execution_count": null,
      "outputs": [
        {
          "output_type": "display_data",
          "data": {
            "text/plain": [
              "<Figure size 432x288 with 1 Axes>"
            ],
            "image/png": "[encoded data removed]"
          },
          "metadata": {
            "needs_background": "light"
          }
        }
      ]
    },
    {
      "cell_type": "markdown",
      "source": [
        "3. Разделите выборку на обучающее и тестовое подмножество. 80% данных оставить на обучающее множество, 20% на тестовое."
      ],
      "metadata": {
        "id": "gpw3GuPrTzLd"
      }
    },
    {
      "cell_type": "code",
      "source": [
        "from sklearn.model_selection import train_test_split\n",
        "y = df_dum['HeartDisease']\n",
        "X = df_dum.copy()\n",
        "X = X.drop(columns = 'HeartDisease')\n",
        "\n",
        "X_train, X_test, y_train, y_test = train_test_split(X, y, test_size=0.2, random_state = 7)"
      ],
      "metadata": {
        "id": "3CT_O9NNTzUY"
      },
      "execution_count": null,
      "outputs": []
    },
    {
      "cell_type": "code",
      "source": [
        "X.head()"
      ],
      "metadata": {
        "colab": {
          "base_uri": "https://localhost:8080/",
          "height": 270
        },
        "id": "d2-z24pFrWc_",
        "outputId": "fe8dd32f-a733-409f-a4d7-66ce75115802"
      },
      "execution_count": null,
      "outputs": [
        {
          "output_type": "execute_result",
          "data": {
            "text/plain": [
              "   Age  RestingBP  Cholesterol  FastingBS  MaxHR  Oldpeak  Sex_M  \\\n",
              "0   40        140          289          0    172      0.0      1   \n",
              "1   49        160          180          0    156      1.0      0   \n",
              "2   37        130          283          0     98      0.0      1   \n",
              "3   48        138          214          0    108      1.5      0   \n",
              "4   54        150          195          0    122      0.0      1   \n",
              "\n",
              "   ChestPainType_ATA  ChestPainType_NAP  ChestPainType_TA  RestingECG_Normal  \\\n",
              "0                  1                  0                 0                  1   \n",
              "1                  0                  1                 0                  1   \n",
              "2                  1                  0                 0                  0   \n",
              "3                  0                  0                 0                  1   \n",
              "4                  0                  1                 0                  1   \n",
              "\n",
              "   RestingECG_ST  ExerciseAngina_Y  ST_Slope_Flat  ST_Slope_Up  \n",
              "0              0                 0              0            1  \n",
              "1              0                 0              1            0  \n",
              "2              1                 0              0            1  \n",
              "3              0                 1              1            0  \n",
              "4              0                 0              0            1  "
            ],
            "text/html": [
              "\n",
              "  <div id=\"df-ce9e7914-ec0b-41a0-af81-6147be08b503\">\n",
              "    <div class=\"colab-df-container\">\n",
              "      <div>\n",
              "<style scoped>\n",
              "    .dataframe tbody tr th:only-of-type {\n",
              "        vertical-align: middle;\n",
              "    }\n",
              "\n",
              "    .dataframe tbody tr th {\n",
              "        vertical-align: top;\n",
              "    }\n",
              "\n",
              "    .dataframe thead th {\n",
              "        text-align: right;\n",
              "    }\n",
              "</style>\n",
              "<table border=\"1\" class=\"dataframe\">\n",
              "  <thead>\n",
              "    <tr style=\"text-align: right;\">\n",
              "      <th></th>\n",
              "      <th>Age</th>\n",
              "      <th>RestingBP</th>\n",
              "      <th>Cholesterol</th>\n",
              "      <th>FastingBS</th>\n",
              "      <th>MaxHR</th>\n",
              "      <th>Oldpeak</th>\n",
              "      <th>Sex_M</th>\n",
              "      <th>ChestPainType_ATA</th>\n",
              "      <th>ChestPainType_NAP</th>\n",
              "      <th>ChestPainType_TA</th>\n",
              "      <th>RestingECG_Normal</th>\n",
              "      <th>RestingECG_ST</th>\n",
              "      <th>ExerciseAngina_Y</th>\n",
              "      <th>ST_Slope_Flat</th>\n",
              "      <th>ST_Slope_Up</th>\n",
              "    </tr>\n",
              "  </thead>\n",
              "  <tbody>\n",
              "    <tr>\n",
              "      <th>0</th>\n",
              "      <td>40</td>\n",
              "      <td>140</td>\n",
              "      <td>289</td>\n",
              "      <td>0</td>\n",
              "      <td>172</td>\n",
              "      <td>0.0</td>\n",
              "      <td>1</td>\n",
              "      <td>1</td>\n",
              "      <td>0</td>\n",
              "      <td>0</td>\n",
              "      <td>1</td>\n",
              "      <td>0</td>\n",
              "      <td>0</td>\n",
              "      <td>0</td>\n",
              "      <td>1</td>\n",
              "    </tr>\n",
              "    <tr>\n",
              "      <th>1</th>\n",
              "      <td>49</td>\n",
              "      <td>160</td>\n",
              "      <td>180</td>\n",
              "      <td>0</td>\n",
              "      <td>156</td>\n",
              "      <td>1.0</td>\n",
              "      <td>0</td>\n",
              "      <td>0</td>\n",
              "      <td>1</td>\n",
              "      <td>0</td>\n",
              "      <td>1</td>\n",
              "      <td>0</td>\n",
              "      <td>0</td>\n",
              "      <td>1</td>\n",
              "      <td>0</td>\n",
              "    </tr>\n",
              "    <tr>\n",
              "      <th>2</th>\n",
              "      <td>37</td>\n",
              "      <td>130</td>\n",
              "      <td>283</td>\n",
              "      <td>0</td>\n",
              "      <td>98</td>\n",
              "      <td>0.0</td>\n",
              "      <td>1</td>\n",
              "      <td>1</td>\n",
              "      <td>0</td>\n",
              "      <td>0</td>\n",
              "      <td>0</td>\n",
              "      <td>1</td>\n",
              "      <td>0</td>\n",
              "      <td>0</td>\n",
              "      <td>1</td>\n",
              "    </tr>\n",
              "    <tr>\n",
              "      <th>3</th>\n",
              "      <td>48</td>\n",
              "      <td>138</td>\n",
              "      <td>214</td>\n",
              "      <td>0</td>\n",
              "      <td>108</td>\n",
              "      <td>1.5</td>\n",
              "      <td>0</td>\n",
              "      <td>0</td>\n",
              "      <td>0</td>\n",
              "      <td>0</td>\n",
              "      <td>1</td>\n",
              "      <td>0</td>\n",
              "      <td>1</td>\n",
              "      <td>1</td>\n",
              "      <td>0</td>\n",
              "    </tr>\n",
              "    <tr>\n",
              "      <th>4</th>\n",
              "      <td>54</td>\n",
              "      <td>150</td>\n",
              "      <td>195</td>\n",
              "      <td>0</td>\n",
              "      <td>122</td>\n",
              "      <td>0.0</td>\n",
              "      <td>1</td>\n",
              "      <td>0</td>\n",
              "      <td>1</td>\n",
              "      <td>0</td>\n",
              "      <td>1</td>\n",
              "      <td>0</td>\n",
              "      <td>0</td>\n",
              "      <td>0</td>\n",
              "      <td>1</td>\n",
              "    </tr>\n",
              "  </tbody>\n",
              "</table>\n",
              "</div>\n",
              "      <button class=\"colab-df-convert\" onclick=\"convertToInteractive('df-ce9e7914-ec0b-41a0-af81-6147be08b503')\"\n",
              "              title=\"Convert this dataframe to an interactive table.\"\n",
              "              style=\"display:none;\">\n",
              "        \n",
              "  <svg xmlns=\"http://www.w3.org/2000/svg\" height=\"24px\"viewBox=\"0 0 24 24\"\n",
              "       width=\"24px\">\n",
              "    <path d=\"M0 0h24v24H0V0z\" fill=\"none\"/>\n",
              "    <path d=\"M18.56 5.44l.94 2.06.94-2.06 2.06-.94-2.06-.94-.94-2.06-.94 2.06-2.06.94zm-11 1L8.5 8.5l.94-2.06 2.06-.94-2.06-.94L8.5 2.5l-.94 2.06-2.06.94zm10 10l.94 2.06.94-2.06 2.06-.94-2.06-.94-.94-2.06-.94 2.06-2.06.94z\"/><path d=\"M17.41 7.96l-1.37-1.37c-.4-.4-.92-.59-1.43-.59-.52 0-1.04.2-1.43.59L10.3 9.45l-7.72 7.72c-.78.78-.78 2.05 0 2.83L4 21.41c.39.39.9.59 1.41.59.51 0 1.02-.2 1.41-.59l7.78-7.78 2.81-2.81c.8-.78.8-2.07 0-2.86zM5.41 20L4 18.59l7.72-7.72 1.47 1.35L5.41 20z\"/>\n",
              "  </svg>\n",
              "      </button>\n",
              "      \n",
              "  <style>\n",
              "    .colab-df-container {\n",
              "      display:flex;\n",
              "      flex-wrap:wrap;\n",
              "      gap: 12px;\n",
              "    }\n",
              "\n",
              "    .colab-df-convert {\n",
              "      background-color: #E8F0FE;\n",
              "      border: none;\n",
              "      border-radius: 50%;\n",
              "      cursor: pointer;\n",
              "      display: none;\n",
              "      fill: #1967D2;\n",
              "      height: 32px;\n",
              "      padding: 0 0 0 0;\n",
              "      width: 32px;\n",
              "    }\n",
              "\n",
              "    .colab-df-convert:hover {\n",
              "      background-color: #E2EBFA;\n",
              "      box-shadow: 0px 1px 2px rgba(60, 64, 67, 0.3), 0px 1px 3px 1px rgba(60, 64, 67, 0.15);\n",
              "      fill: #174EA6;\n",
              "    }\n",
              "\n",
              "    [theme=dark] .colab-df-convert {\n",
              "      background-color: #3B4455;\n",
              "      fill: #D2E3FC;\n",
              "    }\n",
              "\n",
              "    [theme=dark] .colab-df-convert:hover {\n",
              "      background-color: #434B5C;\n",
              "      box-shadow: 0px 1px 3px 1px rgba(0, 0, 0, 0.15);\n",
              "      filter: drop-shadow(0px 1px 2px rgba(0, 0, 0, 0.3));\n",
              "      fill: #FFFFFF;\n",
              "    }\n",
              "  </style>\n",
              "\n",
              "      <script>\n",
              "        const buttonEl =\n",
              "          document.querySelector('#df-ce9e7914-ec0b-41a0-af81-6147be08b503 button.colab-df-convert');\n",
              "        buttonEl.style.display =\n",
              "          google.colab.kernel.accessAllowed ? 'block' : 'none';\n",
              "\n",
              "        async function convertToInteractive(key) {\n",
              "          const element = document.querySelector('#df-ce9e7914-ec0b-41a0-af81-6147be08b503');\n",
              "          const dataTable =\n",
              "            await google.colab.kernel.invokeFunction('convertToInteractive',\n",
              "                                                     [key], {});\n",
              "          if (!dataTable) return;\n",
              "\n",
              "          const docLinkHtml = 'Like what you see? Visit the ' +\n",
              "            '<a target=\"_blank\" href=https://colab.research.google.com/notebooks/data_table.ipynb>data table notebook</a>'\n",
              "            + ' to learn more about interactive tables.';\n",
              "          element.innerHTML = '';\n",
              "          dataTable['output_type'] = 'display_data';\n",
              "          await google.colab.output.renderOutput(dataTable, element);\n",
              "          const docLink = document.createElement('div');\n",
              "          docLink.innerHTML = docLinkHtml;\n",
              "          element.appendChild(docLink);\n",
              "        }\n",
              "      </script>\n",
              "    </div>\n",
              "  </div>\n",
              "  "
            ]
          },
          "metadata": {},
          "execution_count": 64
        }
      ]
    },
    {
      "cell_type": "markdown",
      "source": [
        "4.Обучите дерево решений на обучающем множестве. Используйте следующие модели:\n",
        "a) tree.DecisionTreeClassifier\n",
        "b) ensemble.RandomForestClassifier"
      ],
      "metadata": {
        "id": "tbf7aW4vTzda"
      }
    },
    {
      "cell_type": "code",
      "source": [
        "# a) tree.DecisionTreeClassifier\n",
        "from sklearn.tree import DecisionTreeClassifier\n",
        "tree = DecisionTreeClassifier(random_state=7)\n",
        "tree.fit(X_train, y_train)\n",
        "#  b) ensemble.RandomForestClassifier\n",
        "from sklearn.ensemble import RandomForestClassifier\n",
        "forest = RandomForestClassifier(random_state=7)\n",
        "forest.fit(X_train, y_train)"
      ],
      "metadata": {
        "colab": {
          "base_uri": "https://localhost:8080/"
        },
        "id": "jJevkNxWTzmq",
        "outputId": "94dbdcc7-760b-44fa-8901-a5a01b70a602"
      },
      "execution_count": null,
      "outputs": [
        {
          "output_type": "execute_result",
          "data": {
            "text/plain": [
              "RandomForestClassifier(random_state=7)"
            ]
          },
          "metadata": {},
          "execution_count": 65
        }
      ]
    },
    {
      "cell_type": "markdown",
      "source": [
        "5. Для тестового множества сделайте предсказание целевой переменной. Выведите метрики для каждой построенной модели с помощью metrics.classification_report."
      ],
      "metadata": {
        "id": "GSPhbRySTzuj"
      }
    },
    {
      "cell_type": "code",
      "source": [
        "from sklearn.metrics import classification_report\n",
        "print(f\"для DecisionTreeClassifier:\\n {classification_report(y_test, tree.predict(X_test))}\")\n",
        "print(f\"для RandomForestClassifier:\\n {classification_report(y_test, forest.predict(X_test))}\")\n",
        "d_all_acc = {}\n",
        "d_all_acc['DecisionTreeClassifier'] = 0.79\n",
        "d_all_acc['RandomForestClassifier'] = 0.88\n",
        "# точность на лесе немного подросла\n"
      ],
      "metadata": {
        "colab": {
          "base_uri": "https://localhost:8080/"
        },
        "id": "SKNKhjswTz3A",
        "outputId": "ac10884b-b229-4866-f599-d71d543d35e4"
      },
      "execution_count": null,
      "outputs": [
        {
          "output_type": "stream",
          "name": "stdout",
          "text": [
            "для DecisionTreeClassifier:\n",
            "               precision    recall  f1-score   support\n",
            "\n",
            "           0       0.82      0.73      0.78        90\n",
            "           1       0.77      0.85      0.81        94\n",
            "\n",
            "    accuracy                           0.79       184\n",
            "   macro avg       0.80      0.79      0.79       184\n",
            "weighted avg       0.80      0.79      0.79       184\n",
            "\n",
            "для RandomForestClassifier:\n",
            "               precision    recall  f1-score   support\n",
            "\n",
            "           0       0.90      0.84      0.87        90\n",
            "           1       0.86      0.91      0.89        94\n",
            "\n",
            "    accuracy                           0.88       184\n",
            "   macro avg       0.88      0.88      0.88       184\n",
            "weighted avg       0.88      0.88      0.88       184\n",
            "\n"
          ]
        }
      ]
    },
    {
      "cell_type": "code",
      "source": [
        "X.columns"
      ],
      "metadata": {
        "colab": {
          "base_uri": "https://localhost:8080/"
        },
        "id": "EAjYk-BsMPi_",
        "outputId": "4c6eb9c1-8ede-4a24-d3ca-aad05e301187"
      },
      "execution_count": null,
      "outputs": [
        {
          "output_type": "execute_result",
          "data": {
            "text/plain": [
              "Index(['Age', 'RestingBP', 'Cholesterol', 'FastingBS', 'MaxHR', 'Oldpeak',\n",
              "       'Sex_M', 'ChestPainType_ATA', 'ChestPainType_NAP', 'ChestPainType_TA',\n",
              "       'RestingECG_Normal', 'RestingECG_ST', 'ExerciseAngina_Y',\n",
              "       'ST_Slope_Flat', 'ST_Slope_Up'],\n",
              "      dtype='object')"
            ]
          },
          "metadata": {},
          "execution_count": 67
        }
      ]
    },
    {
      "cell_type": "markdown",
      "source": [
        "6. Выведите важность признаков, полученную после обучения модели из п. 4b в виде столбчатой диаграммы. Отсортируйте важность по убыванию."
      ],
      "metadata": {
        "id": "j3be49f1Tz-C"
      }
    },
    {
      "cell_type": "code",
      "source": [
        "imp = pd.Series(forest.feature_importances_, index = X.columns).sort_values(ascending=False)\n",
        "imp"
      ],
      "metadata": {
        "colab": {
          "base_uri": "https://localhost:8080/"
        },
        "id": "BThRI065T0Fy",
        "outputId": "c2ff0a5f-fa0c-404b-95ef-3e6b86981172"
      },
      "execution_count": null,
      "outputs": [
        {
          "output_type": "execute_result",
          "data": {
            "text/plain": [
              "ST_Slope_Up          0.154785\n",
              "Oldpeak              0.120102\n",
              "MaxHR                0.115618\n",
              "Cholesterol          0.112609\n",
              "ST_Slope_Flat        0.092155\n",
              "Age                  0.085979\n",
              "ExerciseAngina_Y     0.077601\n",
              "RestingBP            0.070512\n",
              "ChestPainType_ATA    0.048059\n",
              "Sex_M                0.031906\n",
              "ChestPainType_NAP    0.026200\n",
              "FastingBS            0.026161\n",
              "RestingECG_Normal    0.017089\n",
              "ChestPainType_TA     0.011184\n",
              "RestingECG_ST        0.010040\n",
              "dtype: float64"
            ]
          },
          "metadata": {},
          "execution_count": 68
        }
      ]
    },
    {
      "cell_type": "code",
      "source": [
        "import seaborn as sns\n",
        "%matplotlib inline\n",
        "sns.barplot(x=imp, y=imp.index)\n",
        "plt.title('Визуализация важности признаков');\n",
        "plt.xlabel('Важность признаков');"
      ],
      "metadata": {
        "colab": {
          "base_uri": "https://localhost:8080/",
          "height": 295
        },
        "id": "QI9BLI7-M6rr",
        "outputId": "527df9d7-e4d0-4ebf-dd4a-a02985ac98aa"
      },
      "execution_count": null,
      "outputs": [
        {
          "output_type": "display_data",
          "data": {
            "text/plain": [
              "<Figure size 432x288 with 1 Axes>"
            ],
            "image/png": "[encoded data removed]"
          },
          "metadata": {
            "needs_background": "light"
          }
        }
      ]
    },
    {
      "cell_type": "code",
      "source": [
        "# plt.barh(imp.index,imp)"
      ],
      "metadata": {
        "id": "YXMqUCzXTFe0"
      },
      "execution_count": null,
      "outputs": []
    },
    {
      "cell_type": "markdown",
      "source": [
        "7.Обучите бэггинг над моделью из п. 4a. Используйте ensemble.BaggingClassifier.\n",
        "a) Повторите п. 5"
      ],
      "metadata": {
        "id": "H7jkHvM9T0OK"
      }
    },
    {
      "cell_type": "code",
      "source": [
        "from sklearn.ensemble import BaggingClassifier\n",
        "bagg = BaggingClassifier(DecisionTreeClassifier(),n_estimators=100,max_samples=0.5, max_features=0.5,random_state=7).fit(X_train,y_train)\n",
        "print(f\"для BaggingClassifier:\\n {classification_report(y_test, bagg.predict(X_test))}\")\n",
        "d_all_acc['BaggingClassifier'] = 0.88\n",
        "# "
      ],
      "metadata": {
        "id": "qIF6I-DKT0W5",
        "colab": {
          "base_uri": "https://localhost:8080/"
        },
        "outputId": "eb4fdb89-c9e6-4f65-e407-32ba619e8a3e"
      },
      "execution_count": null,
      "outputs": [
        {
          "output_type": "stream",
          "name": "stdout",
          "text": [
            "для BaggingClassifier:\n",
            "               precision    recall  f1-score   support\n",
            "\n",
            "           0       0.91      0.83      0.87        90\n",
            "           1       0.85      0.93      0.89        94\n",
            "\n",
            "    accuracy                           0.88       184\n",
            "   macro avg       0.88      0.88      0.88       184\n",
            "weighted avg       0.88      0.88      0.88       184\n",
            "\n"
          ]
        }
      ]
    },
    {
      "cell_type": "markdown",
      "source": [
        "8. Обучите стекинг трех моделей: из п. 4a, п. 4b и svm.LinearSVC. Используйте ensemble.StackingClassifier.\n",
        "a) Повторите п. 5"
      ],
      "metadata": {
        "id": "QDV2oSubT0dp"
      }
    },
    {
      "cell_type": "code",
      "source": [
        "from sklearn.svm import LinearSVC\n",
        "from sklearn.ensemble import StackingClassifier\n",
        "\n",
        "est = [('tree', DecisionTreeClassifier()),('forest',RandomForestClassifier()), ('SVC',LinearSVC())]\n",
        "stack_all = StackingClassifier(estimators=est)\n",
        "\n",
        "\"\"\"\n",
        "final_estimatorestimator, default=None\n",
        "A classifier which will be used to combine the base estimators. \n",
        "The default classifier is a LogisticRegression.\n",
        "\"\"\"\n",
        "stack_all.fit(X_train, y_train)\n",
        "print(f\"для StackingClassifier:\\n {classification_report(y_test, bagg.predict(X_test))}\")\n",
        "d_all_acc['StackingClassifier'] = 0.88"
      ],
      "metadata": {
        "id": "ewQ4K_LbT0lr",
        "colab": {
          "base_uri": "https://localhost:8080/"
        },
        "outputId": "c473639f-ed58-4f83-b84d-6486a2310654"
      },
      "execution_count": null,
      "outputs": [
        {
          "output_type": "stream",
          "name": "stderr",
          "text": [
            "/usr/local/lib/python3.8/dist-packages/sklearn/svm/_base.py:1206: ConvergenceWarning: Liblinear failed to converge, increase the number of iterations.\n",
            "  warnings.warn(\n"
          ]
        },
        {
          "output_type": "stream",
          "name": "stdout",
          "text": [
            "для StackingClassifier:\n",
            "               precision    recall  f1-score   support\n",
            "\n",
            "           0       0.91      0.83      0.87        90\n",
            "           1       0.85      0.93      0.89        94\n",
            "\n",
            "    accuracy                           0.88       184\n",
            "   macro avg       0.88      0.88      0.88       184\n",
            "weighted avg       0.88      0.88      0.88       184\n",
            "\n"
          ]
        },
        {
          "output_type": "stream",
          "name": "stderr",
          "text": [
            "/usr/local/lib/python3.8/dist-packages/sklearn/svm/_base.py:1206: ConvergenceWarning: Liblinear failed to converge, increase the number of iterations.\n",
            "  warnings.warn(\n",
            "/usr/local/lib/python3.8/dist-packages/sklearn/svm/_base.py:1206: ConvergenceWarning: Liblinear failed to converge, increase the number of iterations.\n",
            "  warnings.warn(\n",
            "/usr/local/lib/python3.8/dist-packages/sklearn/svm/_base.py:1206: ConvergenceWarning: Liblinear failed to converge, increase the number of iterations.\n",
            "  warnings.warn(\n",
            "/usr/local/lib/python3.8/dist-packages/sklearn/svm/_base.py:1206: ConvergenceWarning: Liblinear failed to converge, increase the number of iterations.\n",
            "  warnings.warn(\n",
            "/usr/local/lib/python3.8/dist-packages/sklearn/svm/_base.py:1206: ConvergenceWarning: Liblinear failed to converge, increase the number of iterations.\n",
            "  warnings.warn(\n"
          ]
        }
      ]
    },
    {
      "cell_type": "markdown",
      "source": [
        "9. Сформулируйте выводы по проделанной работе.\n",
        "a) Сравните метрики построенных моделей.\n",
        "b) Напишите свое мнение, какая модель наилучшая и почему.\n",
        "Для получения зачета по этому домашнему заданию, минимально, должны быть обучены следующие модели: дерево решений, стекинг трех моделей. В данных должны быть обработаны категориальные значения."
      ],
      "metadata": {
        "id": "105nfolGT0s4"
      }
    },
    {
      "cell_type": "code",
      "source": [
        "pd.DataFrame.from_dict(d_all_acc, orient='index', columns=['accuracy'])\n",
        "'''\n",
        "после перехода к решпющему лесу - качество модели не меняется.\n",
        "'''"
      ],
      "metadata": {
        "id": "LdW6UQZ4T04q",
        "colab": {
          "base_uri": "https://localhost:8080/",
          "height": 175
        },
        "outputId": "2b8a5006-f3a8-49cc-a397-ef68c6c63558"
      },
      "execution_count": null,
      "outputs": [
        {
          "output_type": "execute_result",
          "data": {
            "text/plain": [
              "                        accuracy\n",
              "DecisionTreeClassifier      0.79\n",
              "RandomForestClassifier      0.88\n",
              "BaggingClassifier           0.88\n",
              "StackingClassifier          0.88"
            ],
            "text/html": [
              "\n",
              "  <div id=\"df-7db43e19-9342-4f37-86a0-8259a30918d6\">\n",
              "    <div class=\"colab-df-container\">\n",
              "      <div>\n",
              "<style scoped>\n",
              "    .dataframe tbody tr th:only-of-type {\n",
              "        vertical-align: middle;\n",
              "    }\n",
              "\n",
              "    .dataframe tbody tr th {\n",
              "        vertical-align: top;\n",
              "    }\n",
              "\n",
              "    .dataframe thead th {\n",
              "        text-align: right;\n",
              "    }\n",
              "</style>\n",
              "<table border=\"1\" class=\"dataframe\">\n",
              "  <thead>\n",
              "    <tr style=\"text-align: right;\">\n",
              "      <th></th>\n",
              "      <th>accuracy</th>\n",
              "    </tr>\n",
              "  </thead>\n",
              "  <tbody>\n",
              "    <tr>\n",
              "      <th>DecisionTreeClassifier</th>\n",
              "      <td>0.79</td>\n",
              "    </tr>\n",
              "    <tr>\n",
              "      <th>RandomForestClassifier</th>\n",
              "      <td>0.88</td>\n",
              "    </tr>\n",
              "    <tr>\n",
              "      <th>BaggingClassifier</th>\n",
              "      <td>0.88</td>\n",
              "    </tr>\n",
              "    <tr>\n",
              "      <th>StackingClassifier</th>\n",
              "      <td>0.88</td>\n",
              "    </tr>\n",
              "  </tbody>\n",
              "</table>\n",
              "</div>\n",
              "      <button class=\"colab-df-convert\" onclick=\"convertToInteractive('df-7db43e19-9342-4f37-86a0-8259a30918d6')\"\n",
              "              title=\"Convert this dataframe to an interactive table.\"\n",
              "              style=\"display:none;\">\n",
              "        \n",
              "  <svg xmlns=\"http://www.w3.org/2000/svg\" height=\"24px\"viewBox=\"0 0 24 24\"\n",
              "       width=\"24px\">\n",
              "    <path d=\"M0 0h24v24H0V0z\" fill=\"none\"/>\n",
              "    <path d=\"M18.56 5.44l.94 2.06.94-2.06 2.06-.94-2.06-.94-.94-2.06-.94 2.06-2.06.94zm-11 1L8.5 8.5l.94-2.06 2.06-.94-2.06-.94L8.5 2.5l-.94 2.06-2.06.94zm10 10l.94 2.06.94-2.06 2.06-.94-2.06-.94-.94-2.06-.94 2.06-2.06.94z\"/><path d=\"M17.41 7.96l-1.37-1.37c-.4-.4-.92-.59-1.43-.59-.52 0-1.04.2-1.43.59L10.3 9.45l-7.72 7.72c-.78.78-.78 2.05 0 2.83L4 21.41c.39.39.9.59 1.41.59.51 0 1.02-.2 1.41-.59l7.78-7.78 2.81-2.81c.8-.78.8-2.07 0-2.86zM5.41 20L4 18.59l7.72-7.72 1.47 1.35L5.41 20z\"/>\n",
              "  </svg>\n",
              "      </button>\n",
              "      \n",
              "  <style>\n",
              "    .colab-df-container {\n",
              "      display:flex;\n",
              "      flex-wrap:wrap;\n",
              "      gap: 12px;\n",
              "    }\n",
              "\n",
              "    .colab-df-convert {\n",
              "      background-color: #E8F0FE;\n",
              "      border: none;\n",
              "      border-radius: 50%;\n",
              "      cursor: pointer;\n",
              "      display: none;\n",
              "      fill: #1967D2;\n",
              "      height: 32px;\n",
              "      padding: 0 0 0 0;\n",
              "      width: 32px;\n",
              "    }\n",
              "\n",
              "    .colab-df-convert:hover {\n",
              "      background-color: #E2EBFA;\n",
              "      box-shadow: 0px 1px 2px rgba(60, 64, 67, 0.3), 0px 1px 3px 1px rgba(60, 64, 67, 0.15);\n",
              "      fill: #174EA6;\n",
              "    }\n",
              "\n",
              "    [theme=dark] .colab-df-convert {\n",
              "      background-color: #3B4455;\n",
              "      fill: #D2E3FC;\n",
              "    }\n",
              "\n",
              "    [theme=dark] .colab-df-convert:hover {\n",
              "      background-color: #434B5C;\n",
              "      box-shadow: 0px 1px 3px 1px rgba(0, 0, 0, 0.15);\n",
              "      filter: drop-shadow(0px 1px 2px rgba(0, 0, 0, 0.3));\n",
              "      fill: #FFFFFF;\n",
              "    }\n",
              "  </style>\n",
              "\n",
              "      <script>\n",
              "        const buttonEl =\n",
              "          document.querySelector('#df-7db43e19-9342-4f37-86a0-8259a30918d6 button.colab-df-convert');\n",
              "        buttonEl.style.display =\n",
              "          google.colab.kernel.accessAllowed ? 'block' : 'none';\n",
              "\n",
              "        async function convertToInteractive(key) {\n",
              "          const element = document.querySelector('#df-7db43e19-9342-4f37-86a0-8259a30918d6');\n",
              "          const dataTable =\n",
              "            await google.colab.kernel.invokeFunction('convertToInteractive',\n",
              "                                                     [key], {});\n",
              "          if (!dataTable) return;\n",
              "\n",
              "          const docLinkHtml = 'Like what you see? Visit the ' +\n",
              "            '<a target=\"_blank\" href=https://colab.research.google.com/notebooks/data_table.ipynb>data table notebook</a>'\n",
              "            + ' to learn more about interactive tables.';\n",
              "          element.innerHTML = '';\n",
              "          dataTable['output_type'] = 'display_data';\n",
              "          await google.colab.output.renderOutput(dataTable, element);\n",
              "          const docLink = document.createElement('div');\n",
              "          docLink.innerHTML = docLinkHtml;\n",
              "          element.appendChild(docLink);\n",
              "        }\n",
              "      </script>\n",
              "    </div>\n",
              "  </div>\n",
              "  "
            ]
          },
          "metadata": {},
          "execution_count": 73
        }
      ]
    },
    {
      "cell_type": "markdown",
      "source": [
        "Результат: получены знания по использованию базовых ансамблевых методов."
      ],
      "metadata": {
        "id": "8zOsoCcHUOoR"
      }
    }
  ]
}