{
  "nbformat": 4,
  "nbformat_minor": 0,
  "metadata": {
    "colab": {
      "provenance": []
    },
    "kernelspec": {
      "name": "python3",
      "display_name": "Python 3"
    },
    "language_info": {
      "name": "python"
    }
  },
  "cells": [
    {
      "cell_type": "code",
      "execution_count": null,
      "metadata": {
        "id": "IIEkW8uBThZu"
      },
      "outputs": [],
      "source": [
        "\"\"\"\n",
        "При фиксированном seed=42 поэкспериментируйте с параметрами алгоритма differential_evolution: \n",
        "strategy, popsize, mutation.\n",
        "\n",
        "Постройте графики количества итераций (nit) \n",
        "оптимизации функции ackley от значения параметра.\n",
        "\n",
        "Подробнее о результате выдачи тут\n",
        "\"\"\""
      ]
    },
    {
      "cell_type": "code",
      "source": [
        "import numpy as np\n",
        "from scipy.optimize import differential_evolution\n",
        "import matplotlib.pyplot as plt\n",
        "\n",
        "%matplotlib inline"
      ],
      "metadata": {
        "id": "_JvQkHRwT3aL"
      },
      "execution_count": null,
      "outputs": []
    },
    {
      "cell_type": "code",
      "source": [
        "def ackley(x):\n",
        "    arg1 = -0.2 * np.sqrt(0.5 * (x[0] ** 2 + x[1] ** 2))\n",
        "    arg2 = 0.5 * (np.cos(2. * np.pi * x[0]) + np.cos(2. * np.pi * x[1]))\n",
        "    return -20. * np.exp(arg1) - np.exp(arg2) + 20. + np.e\n",
        "\n",
        "bounds = [(-10, 10), (-10, 10)]\n",
        "\n",
        "result = differential_evolution(ackley, bounds, seed=42)\n",
        "result"
      ],
      "metadata": {
        "colab": {
          "base_uri": "https://localhost:8080/"
        },
        "id": "QFmDjL22UV8b",
        "outputId": "16f62ef8-b78b-4473-cfb6-f569aab6b45a"
      },
      "execution_count": null,
      "outputs": [
        {
          "output_type": "execute_result",
          "data": {
            "text/plain": [
              "     fun: 4.440892098500626e-16\n",
              " message: 'Optimization terminated successfully.'\n",
              "    nfev: 2793\n",
              "     nit: 90\n",
              " success: True\n",
              "       x: array([0., 0.])"
            ]
          },
          "metadata": {},
          "execution_count": 2
        }
      ]
    },
    {
      "cell_type": "markdown",
      "source": [],
      "metadata": {
        "id": "TxYFsTdW7mxo"
      }
    },
    {
      "cell_type": "code",
      "source": [
        "# частные производные\n",
        "from sympy import *\n",
        "x, y = symbols('x y')\n",
        "df_dx = diff((-20 * exp(-0.2 * sqrt(0.5 * (x ** 2 + y ** 2))) - exp(0.5 *(cos(2 * pi * x) + cos(2 * pi * y))) + 20 + exp(1)),x)\n",
        "df_dx"
      ],
      "metadata": {
        "colab": {
          "base_uri": "https://localhost:8080/",
          "height": 67
        },
        "id": "StIxxczj0It8",
        "outputId": "e0aaf27b-0f9a-4386-9599-689434893bb2"
      },
      "execution_count": null,
      "outputs": [
        {
          "output_type": "execute_result",
          "data": {
            "text/plain": [
              "2.82842712474619*x*exp(-0.14142135623731*sqrt(x**2 + y**2))/sqrt(x**2 + y**2) + 1.0*pi*exp(0.5*cos(2*pi*x) + 0.5*cos(2*pi*y))*sin(2*pi*x)"
            ],
            "text/latex": "$\\displaystyle \\frac{2.82842712474619 x e^{- 0.14142135623731 \\sqrt{x^{2} + y^{2}}}}{\\sqrt{x^{2} + y^{2}}} + 1.0 \\pi e^{0.5 \\cos{\\left(2 \\pi x \\right)} + 0.5 \\cos{\\left(2 \\pi y \\right)}} \\sin{\\left(2 \\pi x \\right)}$"
          },
          "metadata": {},
          "execution_count": 67
        }
      ]
    },
    {
      "cell_type": "code",
      "source": [
        "df_dy = diff((-20 * exp(-0.2 * sqrt(0.5 * (x ** 2 + y ** 2))) - exp(0.5 *(cos(2 * pi * x) + cos(2 * pi * y))) + 20 + exp(1)),y)\n",
        "df_dy"
      ],
      "metadata": {
        "colab": {
          "base_uri": "https://localhost:8080/",
          "height": 67
        },
        "id": "jadCgEBN9OsV",
        "outputId": "95bf03aa-9227-447b-fcec-e21a99b374a6"
      },
      "execution_count": null,
      "outputs": [
        {
          "output_type": "execute_result",
          "data": {
            "text/plain": [
              "2.82842712474619*y*exp(-0.14142135623731*sqrt(x**2 + y**2))/sqrt(x**2 + y**2) + 1.0*pi*exp(0.5*cos(2*pi*x) + 0.5*cos(2*pi*y))*sin(2*pi*y)"
            ],
            "text/latex": "$\\displaystyle \\frac{2.82842712474619 y e^{- 0.14142135623731 \\sqrt{x^{2} + y^{2}}}}{\\sqrt{x^{2} + y^{2}}} + 1.0 \\pi e^{0.5 \\cos{\\left(2 \\pi x \\right)} + 0.5 \\cos{\\left(2 \\pi y \\right)}} \\sin{\\left(2 \\pi y \\right)}$"
          },
          "metadata": {},
          "execution_count": 78
        }
      ]
    },
    {
      "cell_type": "code",
      "source": [
        "# strategy, popsize, mutation\n"
      ],
      "metadata": {
        "id": "L4dW4qNNVQoo"
      },
      "execution_count": null,
      "outputs": []
    },
    {
      "cell_type": "code",
      "source": [
        "# strategy\n",
        "\n",
        "\"\"\"\n",
        "The differential evolution strategy to use. Should be one of:\n",
        "‘best1bin’\n",
        "‘best1exp’\n",
        "‘rand1exp’\n",
        "‘randtobest1exp’\n",
        "‘currenttobest1exp’\n",
        "‘best2exp’\n",
        "‘rand2exp’\n",
        "‘randtobest1bin’\n",
        "‘currenttobest1bin’\n",
        "‘best2bin’\n",
        "‘rand2bin’\n",
        "‘rand1bin’\n",
        "The default is ‘best1bin’.\n",
        "\"\"\"\n",
        "\n",
        "d_nit_strategy_1 = {}\n",
        "d_nit_strategy_2 = {}\n",
        "d_nit_strategy_3 = {}\n",
        "\n",
        "\n",
        "strategy_1 = ['best1bin', 'best1exp', 'rand1exp', 'randtobest1exp', \\\n",
        "            'best2exp']\n",
        "strategy_2 = ['rand2exp', 'randtobest1bin',\\\n",
        "            'best2bin', 'rand2bin', 'rand1bin']\n",
        "\n",
        "strategy_3 = ['currenttobest1exp','currenttobest1bin']\n",
        "for s in strategy_1:\n",
        "  d_nit_strategy_1[s] = differential_evolution(ackley, bounds, seed=42, strategy=s).nit\n",
        "# d_nit_strategy\n",
        "plt.bar(d_nit_strategy_1.keys(), d_nit_strategy_1.values()) \n"
      ],
      "metadata": {
        "colab": {
          "base_uri": "https://localhost:8080/",
          "height": 282
        },
        "id": "yHUtFrTFW_gV",
        "outputId": "29104eab-0b11-4105-8a93-73ffb8478b9e"
      },
      "execution_count": null,
      "outputs": [
        {
          "output_type": "execute_result",
          "data": {
            "text/plain": [
              "<BarContainer object of 5 artists>"
            ]
          },
          "metadata": {},
          "execution_count": 46
        },
        {
          "output_type": "display_data",
          "data": {
            "text/plain": [
              "<Figure size 432x288 with 1 Axes>"
            ],
            "image/png": "[encoded data removed]"
          },
          "metadata": {
            "needs_background": "light"
          }
        }
      ]
    },
    {
      "cell_type": "code",
      "source": [
        "for s in strategy_2:\n",
        "  d_nit_strategy_2[s] = differential_evolution(ackley, bounds, seed=42, strategy=s).nit\n",
        "plt.bar(d_nit_strategy_2.keys(), d_nit_strategy_2.values()) "
      ],
      "metadata": {
        "colab": {
          "base_uri": "https://localhost:8080/",
          "height": 282
        },
        "id": "fpBqGBK-o_Pt",
        "outputId": "acad994b-9ddf-427f-822e-582d5e5b0ed6"
      },
      "execution_count": null,
      "outputs": [
        {
          "output_type": "execute_result",
          "data": {
            "text/plain": [
              "<BarContainer object of 5 artists>"
            ]
          },
          "metadata": {},
          "execution_count": 47
        },
        {
          "output_type": "display_data",
          "data": {
            "text/plain": [
              "<Figure size 432x288 with 1 Axes>"
            ],
            "image/png": "[encoded data removed]"
          },
          "metadata": {
            "needs_background": "light"
          }
        }
      ]
    },
    {
      "cell_type": "code",
      "source": [
        "for s in strategy_3:\n",
        "  d_nit_strategy_3[s] = differential_evolution(ackley, bounds, seed=42, strategy=s).nit\n",
        "plt.bar(d_nit_strategy_3.keys(), d_nit_strategy_3.values()) "
      ],
      "metadata": {
        "colab": {
          "base_uri": "https://localhost:8080/",
          "height": 282
        },
        "id": "Vy2om790pwKa",
        "outputId": "d6df9e1c-74be-41fb-c48c-64ae52a4e403"
      },
      "execution_count": null,
      "outputs": [
        {
          "output_type": "execute_result",
          "data": {
            "text/plain": [
              "<BarContainer object of 2 artists>"
            ]
          },
          "metadata": {},
          "execution_count": 48
        },
        {
          "output_type": "display_data",
          "data": {
            "text/plain": [
              "<Figure size 432x288 with 1 Axes>"
            ],
            "image/png": "[encoded data removed]"
          },
          "metadata": {
            "needs_background": "light"
          }
        }
      ]
    },
    {
      "cell_type": "code",
      "source": [
        "d_nit_strategy"
      ],
      "metadata": {
        "colab": {
          "base_uri": "https://localhost:8080/"
        },
        "id": "_uW3une8j6zr",
        "outputId": "557f99ca-664e-4d58-d32c-96e2eb92637e"
      },
      "execution_count": null,
      "outputs": [
        {
          "output_type": "execute_result",
          "data": {
            "text/plain": [
              "{'best1bin': 90,\n",
              " 'best1exp': 147,\n",
              " 'rand1exp': 246,\n",
              " 'randtobest1exp': 156,\n",
              " 'currenttobest1exp': 1000,\n",
              " 'best2exp': 244,\n",
              " 'rand2exp': 341,\n",
              " 'randtobest1bin': 101,\n",
              " 'currenttobest1bin': 1000,\n",
              " 'best2bin': 166,\n",
              " 'rand2bin': 232,\n",
              " 'rand1bin': 168}"
            ]
          },
          "metadata": {},
          "execution_count": 27
        }
      ]
    },
    {
      "cell_type": "code",
      "source": [],
      "metadata": {
        "id": "ZQJvG03VyVgG"
      },
      "execution_count": null,
      "outputs": []
    },
    {
      "cell_type": "code",
      "source": [
        "# popsize\n",
        "\"\"\"\n",
        "A multiplier for setting the total population size. \n",
        "The population has popsize * N individuals. \n",
        "This keyword is overridden if an initial population \n",
        "is supplied via the init keyword. When using init='sobol' \n",
        "the population size is calculated as the next power of 2 after popsize * N.\n",
        "\"\"\"\n",
        "x = []\n",
        "y =[]\n",
        "for i in range(0,200,10):\n",
        "  x.append(i)\n",
        "  res = differential_evolution(ackley, bounds, seed=42, popsize=i)\n",
        "  y.append(res.nit)\n",
        "plt.plot(x,y)\n"
      ],
      "metadata": {
        "colab": {
          "base_uri": "https://localhost:8080/",
          "height": 282
        },
        "id": "TP-8JduLkYlm",
        "outputId": "e9152a0e-21d7-41ba-e4b6-23729c448e46"
      },
      "execution_count": null,
      "outputs": [
        {
          "output_type": "execute_result",
          "data": {
            "text/plain": [
              "[<matplotlib.lines.Line2D at 0x7fd6fb3d9850>]"
            ]
          },
          "metadata": {},
          "execution_count": 32
        },
        {
          "output_type": "display_data",
          "data": {
            "text/plain": [
              "<Figure size 432x288 with 1 Axes>"
            ],
            "image/png": "[encoded data removed]"
          },
          "metadata": {
            "needs_background": "light"
          }
        }
      ]
    },
    {
      "cell_type": "code",
      "source": [
        "`# mutation\n",
        "\"\"\"\n",
        "float or tuple(float, float), optional\n",
        "The mutation constant. \n",
        "In the literature this is also known as differential weight, \n",
        "being denoted by F. \n",
        "If specified as a float it should be in the range [0, 2]. \n",
        "If specified as a tuple (min, max) dithering is employed. \n",
        "Dithering randomly changes the mutation constant on a generation by generation basis. The mutation constant for that generation is taken from U[min, max). Dithering can help speed convergence significantly. Increasing the mutation constant increases the search radius, but will slow down convergence.\n",
        "\"\"\"\n",
        "\n",
        "x = []\n",
        "y =[]\n",
        "for i in np.arange(0,2,0.1):\n",
        "  x.append(i)\n",
        "  res = differential_evolution(ackley, bounds, seed=42, mutation = i)\n",
        "  y.append(res.nit)\n",
        "plt.plot(x,y)"
      ],
      "metadata": {
        "colab": {
          "base_uri": "https://localhost:8080/",
          "height": 282
        },
        "id": "PSP851QKmLOs",
        "outputId": "9ce7fec8-3309-4565-a92c-2fe991f775d2"
      },
      "execution_count": null,
      "outputs": [
        {
          "output_type": "execute_result",
          "data": {
            "text/plain": [
              "[<matplotlib.lines.Line2D at 0x7fd6fb22e1d0>]"
            ]
          },
          "metadata": {},
          "execution_count": 33
        },
        {
          "output_type": "display_data",
          "data": {
            "text/plain": [
              "<Figure size 432x288 with 1 Axes>"
            ],
            "image/png": "[encoded data removed]"
          },
          "metadata": {
            "needs_background": "light"
          }
        }
      ]
    },
    {
      "cell_type": "markdown",
      "source": [
        "Поэкспериментируйте с параметрами и оптимизацией через minimize:"
      ],
      "metadata": {
        "id": "_2uqhW7FUbQi"
      }
    },
    {
      "cell_type": "code",
      "source": [
        "from scipy.optimize import minimize\n",
        "\n",
        "x0 = [0,0]\n",
        "\n",
        "result_m = minimize(ackley, x0,  method='Nelder-Mead')\n",
        "result_m"
      ],
      "metadata": {
        "colab": {
          "base_uri": "https://localhost:8080/"
        },
        "id": "8RaSz7MmUfF7",
        "outputId": "5deafb47-b511-4961-9918-dc0e6102e1f2"
      },
      "execution_count": null,
      "outputs": [
        {
          "output_type": "execute_result",
          "data": {
            "text/plain": [
              " final_simplex: (array([[ 0.00000000e+00,  0.00000000e+00],\n",
              "       [-1.60675049e-05, -8.45336914e-06],\n",
              "       [-1.40380859e-06, -3.11279297e-05]]), array([4.44089210e-16, 5.13604405e-05, 8.81584216e-05]))\n",
              "           fun: 4.440892098500626e-16\n",
              "       message: 'Optimization terminated successfully.'\n",
              "          nfev: 17\n",
              "           nit: 8\n",
              "        status: 0\n",
              "       success: True\n",
              "             x: array([0., 0.])"
            ]
          },
          "metadata": {},
          "execution_count": 3
        }
      ]
    },
    {
      "cell_type": "code",
      "source": [
        "method_1 = ['Nelder-Mead', 'Powell', 'CG', 'BFGS', 'L-BFGS-B', 'TNC', 'SLSQP', 'trust-constr']\n",
        "method_jac = ['dogleg', 'trust-ncg', 'trust-exact', 'trust-krylov', 'Newton-CG']\n",
        "x0 = [0,0]\n",
        "\n",
        "d_method_1 = {}\n",
        "d_method_jac = {}\n",
        "\n",
        "# , '','COBYLA' - AttributeError\n",
        "\n",
        "for m in method_1:\n",
        "  result_m = minimize(ackley, x0,  method=m)\n",
        "  d_method_1[m] = result_m.nit\n",
        "plt.bar(d_method_1.keys(), d_method_1.values()) "
      ],
      "metadata": {
        "id": "vxQC7IoMoO_j",
        "colab": {
          "base_uri": "https://localhost:8080/",
          "height": 283
        },
        "outputId": "74c2cb52-36ed-4e6b-e983-b58f74ada7dc"
      },
      "execution_count": null,
      "outputs": [
        {
          "output_type": "execute_result",
          "data": {
            "text/plain": [
              "<BarContainer object of 8 artists>"
            ]
          },
          "metadata": {},
          "execution_count": 8
        },
        {
          "output_type": "display_data",
          "data": {
            "text/plain": [
              "<Figure size 432x288 with 1 Axes>"
            ],
            "image/png": "[encoded data removed]"
          },
          "metadata": {
            "needs_background": "light"
          }
        }
      ]
    },
    {
      "cell_type": "code",
      "source": [
        "d_method_1"
      ],
      "metadata": {
        "colab": {
          "base_uri": "https://localhost:8080/"
        },
        "id": "GV7MKgfsnKUk",
        "outputId": "80e114ae-a576-449f-b1c6-e3370766ec2f"
      },
      "execution_count": null,
      "outputs": [
        {
          "output_type": "execute_result",
          "data": {
            "text/plain": [
              "{'Nelder-Mead': 8,\n",
              " 'Powell': 1,\n",
              " 'CG': 0,\n",
              " 'BFGS': 0,\n",
              " 'L-BFGS-B': 0,\n",
              " 'TNC': 0,\n",
              " 'SLSQP': 5,\n",
              " 'trust-constr': 27}"
            ]
          },
          "metadata": {},
          "execution_count": 5
        }
      ]
    },
    {
      "cell_type": "code",
      "source": [
        "minimize(ackley,  [0,0],  method='COBYLA')"
      ],
      "metadata": {
        "colab": {
          "base_uri": "https://localhost:8080/"
        },
        "id": "PxfE1odcrXiU",
        "outputId": "144f96b2-9493-4fa7-f094-6b3e864d39be"
      },
      "execution_count": null,
      "outputs": [
        {
          "output_type": "execute_result",
          "data": {
            "text/plain": [
              "     fun: 0.00028310899612238316\n",
              "   maxcv: 0.0\n",
              " message: 'Optimization terminated successfully.'\n",
              "    nfev: 25\n",
              "  status: 1\n",
              " success: True\n",
              "       x: array([-8.76258342e-06,  9.96153459e-05])"
            ]
          },
          "metadata": {},
          "execution_count": 9
        }
      ]
    },
    {
      "cell_type": "code",
      "source": [
        "def fun_dif(x):\n",
        "  dx = ((2.82842712474619*x[0]*np.exp(0.14142135623731*np.sqrt(x[0]**2 + x[1]**2)))/(x[0]**2 + x[1]**2)) + np.pi*np.exp(0.5*np.cos(2*np.pi*x[0]) + 0.5*np.cos(2*np.pi*x[1]))*np.sin(2*np.pi*x[0])\n",
        "  dy = ((2.82842712474619*x[1]*np.exp(0.14142135623731*np.sqrt(x[0]**2 + x[1]**2)))/(x[0]**2 + x[1]**2)) + np.pi*np.exp(0.5*np.cos(2*np.pi*x[0]) + 0.5*np.cos(2*np.pi*x[1]))*np.sin(2*np.pi*x[1])\n",
        "  return np.array([dx,dy])\n"
      ],
      "metadata": {
        "id": "v1P6v7DwyZzo"
      },
      "execution_count": null,
      "outputs": []
    },
    {
      "cell_type": "code",
      "source": [
        "for m in method_jac:\n",
        "  result_m = minimize(ackley, x0,  method=m, jac=fun_dif(x0))\n",
        "  d_method_1[m] = result_m.nit\n",
        "plt.bar(d_method_1.keys(), d_method_1.values()) "
      ],
      "metadata": {
        "id": "0hCUJ2LvUjN7",
        "colab": {
          "base_uri": "https://localhost:8080/",
          "height": 506
        },
        "outputId": "4855918a-3e7c-44af-d7ae-47065ecbdfa3"
      },
      "execution_count": null,
      "outputs": [
        {
          "output_type": "stream",
          "name": "stderr",
          "text": [
            "<ipython-input-13-24ab3bac9e05>:2: RuntimeWarning: invalid value encountered in double_scalars\n",
            "  dx = ((2.82842712474619*x[0]*np.exp(0.14142135623731*np.sqrt(x[0]**2 + x[1]**2)))/(x[0]**2 + x[1]**2)) + np.pi*np.exp(0.5*np.cos(2*np.pi*x[0]) + 0.5*np.cos(2*np.pi*x[1]))*np.sin(2*np.pi*x[0])\n",
            "<ipython-input-13-24ab3bac9e05>:3: RuntimeWarning: invalid value encountered in double_scalars\n",
            "  dy = ((2.82842712474619*x[1]*np.exp(0.14142135623731*np.sqrt(x[0]**2 + x[1]**2)))/(x[0]**2 + x[1]**2)) + np.pi*np.exp(0.5*np.cos(2*np.pi*x[0]) + 0.5*np.cos(2*np.pi*x[1]))*np.sin(2*np.pi*x[1])\n",
            "/usr/local/lib/python3.8/dist-packages/scipy/optimize/_minimize.py:562: FutureWarning: elementwise comparison failed; returning scalar instead, but in the future will perform elementwise comparison\n",
            "  elif (jac in FD_METHODS and\n"
          ]
        },
        {
          "output_type": "error",
          "ename": "ValueError",
          "evalue": "ignored",
          "traceback": [
            "\u001b[0;31m---------------------------------------------------------------------------\u001b[0m",
            "\u001b[0;31mValueError\u001b[0m                                Traceback (most recent call last)",
            "\u001b[0;32m<ipython-input-14-ac3b9b7bc09f>\u001b[0m in \u001b[0;36m<module>\u001b[0;34m\u001b[0m\n\u001b[1;32m      1\u001b[0m \u001b[0;32mfor\u001b[0m \u001b[0mm\u001b[0m \u001b[0;32min\u001b[0m \u001b[0mmethod_jac\u001b[0m\u001b[0;34m:\u001b[0m\u001b[0;34m\u001b[0m\u001b[0;34m\u001b[0m\u001b[0m\n\u001b[0;32m----> 2\u001b[0;31m   \u001b[0mresult_m\u001b[0m \u001b[0;34m=\u001b[0m \u001b[0mminimize\u001b[0m\u001b[0;34m(\u001b[0m\u001b[0mackley\u001b[0m\u001b[0;34m,\u001b[0m \u001b[0mx0\u001b[0m\u001b[0;34m,\u001b[0m  \u001b[0mmethod\u001b[0m\u001b[0;34m=\u001b[0m\u001b[0mm\u001b[0m\u001b[0;34m,\u001b[0m \u001b[0mjac\u001b[0m\u001b[0;34m=\u001b[0m\u001b[0mfun_dif\u001b[0m\u001b[0;34m(\u001b[0m\u001b[0mx0\u001b[0m\u001b[0;34m)\u001b[0m\u001b[0;34m)\u001b[0m\u001b[0;34m\u001b[0m\u001b[0;34m\u001b[0m\u001b[0m\n\u001b[0m\u001b[1;32m      3\u001b[0m   \u001b[0md_method_1\u001b[0m\u001b[0;34m[\u001b[0m\u001b[0mm\u001b[0m\u001b[0;34m]\u001b[0m \u001b[0;34m=\u001b[0m \u001b[0mresult_m\u001b[0m\u001b[0;34m.\u001b[0m\u001b[0mnit\u001b[0m\u001b[0;34m\u001b[0m\u001b[0;34m\u001b[0m\u001b[0m\n\u001b[1;32m      4\u001b[0m \u001b[0mplt\u001b[0m\u001b[0;34m.\u001b[0m\u001b[0mbar\u001b[0m\u001b[0;34m(\u001b[0m\u001b[0md_method_1\u001b[0m\u001b[0;34m.\u001b[0m\u001b[0mkeys\u001b[0m\u001b[0;34m(\u001b[0m\u001b[0;34m)\u001b[0m\u001b[0;34m,\u001b[0m \u001b[0md_method_1\u001b[0m\u001b[0;34m.\u001b[0m\u001b[0mvalues\u001b[0m\u001b[0;34m(\u001b[0m\u001b[0;34m)\u001b[0m\u001b[0;34m)\u001b[0m\u001b[0;34m\u001b[0m\u001b[0;34m\u001b[0m\u001b[0m\n",
            "\u001b[0;32m/usr/local/lib/python3.8/dist-packages/scipy/optimize/_minimize.py\u001b[0m in \u001b[0;36mminimize\u001b[0;34m(fun, x0, args, method, jac, hess, hessp, bounds, constraints, tol, callback, options)\u001b[0m\n\u001b[1;32m    567\u001b[0m         \u001b[0;31m# default jac calculation for this method\u001b[0m\u001b[0;34m\u001b[0m\u001b[0;34m\u001b[0m\u001b[0;34m\u001b[0m\u001b[0m\n\u001b[1;32m    568\u001b[0m         \u001b[0mjac\u001b[0m \u001b[0;34m=\u001b[0m \u001b[0;34m'2-point'\u001b[0m\u001b[0;34m\u001b[0m\u001b[0;34m\u001b[0m\u001b[0m\n\u001b[0;32m--> 569\u001b[0;31m     \u001b[0;32melif\u001b[0m \u001b[0mjac\u001b[0m \u001b[0;32mis\u001b[0m \u001b[0;32mNone\u001b[0m \u001b[0;32mor\u001b[0m \u001b[0mbool\u001b[0m\u001b[0;34m(\u001b[0m\u001b[0mjac\u001b[0m\u001b[0;34m)\u001b[0m \u001b[0;32mis\u001b[0m \u001b[0;32mFalse\u001b[0m\u001b[0;34m:\u001b[0m\u001b[0;34m\u001b[0m\u001b[0;34m\u001b[0m\u001b[0m\n\u001b[0m\u001b[1;32m    570\u001b[0m         \u001b[0;31m# this will cause e.g. LBFGS to use forward difference, absolute step\u001b[0m\u001b[0;34m\u001b[0m\u001b[0;34m\u001b[0m\u001b[0;34m\u001b[0m\u001b[0m\n\u001b[1;32m    571\u001b[0m         \u001b[0mjac\u001b[0m \u001b[0;34m=\u001b[0m \u001b[0;32mNone\u001b[0m\u001b[0;34m\u001b[0m\u001b[0;34m\u001b[0m\u001b[0m\n",
            "\u001b[0;31mValueError\u001b[0m: The truth value of an array with more than one element is ambiguous. Use a.any() or a.all()"
          ]
        }
      ]
    },
    {
      "cell_type": "markdown",
      "source": [
        "https://habr.com/ru/company/prequel/blog/568496/"
      ],
      "metadata": {
        "id": "yjKho3PPUqQT"
      }
    }
  ]
}