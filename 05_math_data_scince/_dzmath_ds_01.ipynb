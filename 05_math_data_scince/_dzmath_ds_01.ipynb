{
  "nbformat": 4,
  "nbformat_minor": 0,
  "metadata": {
    "colab": {
      "provenance": []
    },
    "kernelspec": {
      "name": "python3",
      "display_name": "Python 3"
    },
    "language_info": {
      "name": "python"
    }
  },
  "cells": [
    {
      "cell_type": "code",
      "execution_count": 15,
      "metadata": {
        "id": "jEfekhtq3vxW"
      },
      "outputs": [],
      "source": [
        "import numpy as np\n",
        "import sympy as sym"
      ]
    },
    {
      "cell_type": "markdown",
      "source": [
        "Уровень 0:\n",
        "Представим фильмы в виде бинарных векторов (numpy array) используя следующие признаки:\n",
        "\n",
        "[Комедия, Боевик, Исторический, Бред Питт, Бенедикт Камбербэтч, Квентин Тарантино]\n",
        "\n",
        "Игра в имитацию\n",
        "Ярость\n",
        "12 лет рабства\n",
        "Однажды в Голливуде"
      ],
      "metadata": {
        "id": "PteeVSbv36J4"
      }
    },
    {
      "cell_type": "code",
      "source": [
        "film_1 = np.array([0,0,0,0,1,0])      # Игра в имитацию\n",
        "\n",
        "film_2 = np.array([0,1,0,1,0,0])      # Ярость\n",
        "\n",
        "film_3 = np.array([0,0,1,1,1,0])      # 12 лет рабства\n",
        "\n",
        "film_4 = np.array([1,0,0,1,0,1])      # Однажды в Голливуде"
      ],
      "metadata": {
        "id": "gnU--fql3-CM"
      },
      "execution_count": 2,
      "outputs": []
    },
    {
      "cell_type": "markdown",
      "source": [
        "Задание 1\n",
        "\n",
        "Найти угол между векторами-фильмами “Ярость” и “12 лет рабства”. Результатом будет являться косинусная мера, которую можно использовать для определения похожести векторов."
      ],
      "metadata": {
        "id": "Ukw_K9o14MTZ"
      }
    },
    {
      "cell_type": "code",
      "source": [
        "n_2 = np.linalg.norm(film_2)\n",
        "n_3 = np.linalg.norm(film_3)\n",
        "cos_2_3 = np.dot(film_2, film_3) / (n_2*n_3)\n",
        "cos_2_3 #косинус угла\n",
        "np.rad2deg(np.arccos(cos_2_3)) # градусов"
      ],
      "metadata": {
        "colab": {
          "base_uri": "https://localhost:8080/"
        },
        "id": "zQiy534F4PCG",
        "outputId": "41741b5d-3d35-4e42-8551-ce48646409f1"
      },
      "execution_count": 14,
      "outputs": [
        {
          "output_type": "execute_result",
          "data": {
            "text/plain": [
              "65.90515744788931"
            ]
          },
          "metadata": {},
          "execution_count": 14
        }
      ]
    },
    {
      "cell_type": "markdown",
      "source": [
        "Уровень 1:\n",
        "Задание 2\n",
        "\n",
        "Вычислить с помощью Python значение первой производной для функции  в точке\n",
        "\n",
        "### YOUR CODE HERE\n",
        "\n"
      ],
      "metadata": {
        "id": "l2wsczKG4PNX"
      }
    },
    {
      "cell_type": "code",
      "source": [
        "x = sym.Symbol('x')\n",
        "3*x*(x**2+x)**3"
      ],
      "metadata": {
        "colab": {
          "base_uri": "https://localhost:8080/",
          "height": 42
        },
        "id": "UIxdbf2j4UB1",
        "outputId": "2c603e51-6b8e-41eb-df75-5d76e6e64686"
      },
      "execution_count": 16,
      "outputs": [
        {
          "output_type": "execute_result",
          "data": {
            "text/plain": [
              "3*x*(x**2 + x)**3"
            ],
            "text/latex": "$\\displaystyle 3 x \\left(x^{2} + x\\right)^{3}$"
          },
          "metadata": {},
          "execution_count": 16
        }
      ]
    },
    {
      "cell_type": "code",
      "source": [
        "di = sym.diff(3*x*(x**2+x)**3,x)\n",
        "di"
      ],
      "metadata": {
        "colab": {
          "base_uri": "https://localhost:8080/",
          "height": 42
        },
        "id": "j1ottU778KuE",
        "outputId": "b909dd0e-ee2f-4f61-e48c-14125c4ef951"
      },
      "execution_count": 17,
      "outputs": [
        {
          "output_type": "execute_result",
          "data": {
            "text/plain": [
              "3*x*(6*x + 3)*(x**2 + x)**2 + 3*(x**2 + x)**3"
            ],
            "text/latex": "$\\displaystyle 3 x \\left(6 x + 3\\right) \\left(x^{2} + x\\right)^{2} + 3 \\left(x^{2} + x\\right)^{3}$"
          },
          "metadata": {},
          "execution_count": 17
        }
      ]
    },
    {
      "cell_type": "code",
      "source": [
        "di.subs(x,1)"
      ],
      "metadata": {
        "colab": {
          "base_uri": "https://localhost:8080/",
          "height": 37
        },
        "id": "gubXHkCm8cJN",
        "outputId": "1d1e7c64-c568-41ff-c65c-7de10d39a11e"
      },
      "execution_count": 18,
      "outputs": [
        {
          "output_type": "execute_result",
          "data": {
            "text/plain": [
              "132"
            ],
            "text/latex": "$\\displaystyle 132$"
          },
          "metadata": {},
          "execution_count": 18
        }
      ]
    },
    {
      "cell_type": "markdown",
      "source": [
        "Задание 3\n",
        "\n",
        "Объединить векторы фильмов в матрицу, где каждый вектор является строкой матрицы. Умножьте вектор [1,2,3,4] на полученную матрицу"
      ],
      "metadata": {
        "id": "zEiKlQ4X4UP_"
      }
    },
    {
      "cell_type": "code",
      "source": [
        "M = np.array([film_1,film_2,film_3,film_4])\n",
        "v = np.array([1,2,3,4])\n",
        "v@M"
      ],
      "metadata": {
        "colab": {
          "base_uri": "https://localhost:8080/"
        },
        "id": "t9ROuD3z4Wiw",
        "outputId": "dd31d174-f3e8-44e6-d904-1ae06937de98"
      },
      "execution_count": 26,
      "outputs": [
        {
          "output_type": "execute_result",
          "data": {
            "text/plain": [
              "array([4, 2, 3, 9, 4, 4])"
            ]
          },
          "metadata": {},
          "execution_count": 26
        }
      ]
    }
  ]
}