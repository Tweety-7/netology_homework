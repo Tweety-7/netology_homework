{
 "cells": [
  {
   "cell_type": "code",
   "execution_count": null,
   "metadata": {
    "id": "yQ3ETyugZjV5"
   },
   "outputs": [],
   "source": [
    "import matplotlib.pyplot as plt\n",
    "import numpy as np\n",
    "import scipy\n",
    "from scipy.optimize import differential_evolution\n",
    "from scipy.optimize import minimize\n",
    "from scipy.stats import norm\n",
    "from scipy.optimize import curve_fit\n",
    "\n",
    "'''\n",
    "Список функций и материалов, которые могут пригодиться:\n",
    "Задание 1\n",
    "\n",
    "•\tscipy.misc.derivative\n",
    "•\tsympy.symbols\n",
    "•\tsympy.diff\n",
    "•\tsympy.evalf\n",
    "\n",
    "Задание 2\n",
    "•\tnumpy.dot (*)\n",
    "\n",
    "Задание 3\n",
    "•\tnumpy.linalg.eig (*)\n",
    "\n",
    "Задание 4\n",
    "•\tscipy.optimize.curve_fit\n",
    "•\tscipy.optimize.minimize (+ method=’COBYLA’)\n",
    "•\tscipy.optimize.differential_evolution (+ scipy.optimize.Bounds)\n",
    "\n",
    "Задание 5\n",
    "•\tsklearn.metrics.pairwise_distances\n",
    "•\tnumpy.dot\n",
    "•\tnumpy.linalg.norm\n",
    "•\tnumpy.nonzero\n",
    "'''\n",
    "from sympy import *\n",
    "\n",
    "%matplotlib inline\n"
   ]
  },
  {
   "cell_type": "code",
   "execution_count": null,
   "metadata": {
    "colab": {
     "base_uri": "https://localhost:8080/"
    },
    "id": "-0p6ZTUbZyYe",
    "outputId": "f846c189-c525-41dc-b191-0cddf345a180"
   },
   "outputs": [
    {
     "name": "stdout",
     "output_type": "stream",
     "text": [
      "первая производная:\n",
      "2*(-2*sin(2*x + 3) + cos(x))*(tan(sin(x) + cos(2*x + 3))**2 + 1)*tan(sin(x) + cos(2*x + 3))\n",
      "значение в точке x_0 = 1: 55.3859176353379\n"
     ]
    }
   ],
   "source": [
    "# Задание 1\n",
    "# Вычислите производную функции:\n",
    "# f(x) = tg^2(sin(x) + cos(2x+3)) в точке x_0 = 1\n",
    "x = symbols('x')\n",
    "di_1 = diff((tan(sin(x) + cos(2*x + 3)))**2).evalf(subs={'x':1})\n",
    "print('первая производная:')\n",
    "print(diff((tan(sin(x) + cos(2*x + 3)))**2))\n",
    "print(f'значение в точке x_0 = 1: {di_1}')"
   ]
  },
  {
   "cell_type": "code",
   "execution_count": null,
   "metadata": {
    "colab": {
     "base_uri": "https://localhost:8080/",
     "height": 343
    },
    "id": "0t35QWvrZ3lg",
    "outputId": "0a4af2ea-ae00-497a-de0d-77c84a08ad25"
   },
   "outputs": [
    {
     "data": {
      "text/plain": [
       "array([[ 50., 240.,   1.],\n",
       "       [100., 480.,   1.],\n",
       "       [150., 240.,   1.],\n",
       "       [ 50., 240.,   1.]])"
      ]
     },
     "execution_count": 7,
     "metadata": {},
     "output_type": "execute_result"
    },
    {
     "data": {
      "image/png": "[encoded data removed]",
      "text/plain": [
       "<Figure size 432x288 with 1 Axes>"
      ]
     },
     "metadata": {
      "needs_background": "light"
     },
     "output_type": "display_data"
    }
   ],
   "source": [
    "# Задание 2\n",
    "# Дан объект в 2D пространстве\n",
    "import numpy as np\n",
    "import matplotlib.pyplot as plt\n",
    "\n",
    "A = [\n",
    "[-100, -100, 1],\n",
    "[0, 100, 1],\n",
    "[100, -100, 1],\n",
    "[-100, -100, 1]\n",
    "]\n",
    "\n",
    "A = np.array(A)\n",
    "\n",
    "x = A[:,0]\n",
    "y = A[:,1]\n",
    "plt.plot(x, y)\n",
    "plt.ylim([-200, 500])\n",
    "plt.xlim([-100, 400]) \n",
    "\n",
    "# При помощи матричных операций выполните:\n",
    "\n",
    "# Смещение объекта и масштабирование (применить 2 матрицы трансформаций).\n",
    "#  Смещение на (200, 300) и # красный треугольник\n",
    "# масштабирование на (0.5, 1.2)\n",
    "# 1 смещение матрицы\n",
    "s_200_300 = [[200,300,0],[200,300,0],[200,300,0],[200,300,0]]\n",
    "# или\n",
    "s_200_300_2 = [200, 300, 0]\n",
    "# s_200_300_3 = [[1, 0, 200],[0, 1, 300], [0, 0, 0]]\n",
    "# A_200 = A + s_200_300\n",
    "A_200 = A + s_200_300_2\n",
    "x_1 = A_200[:,0]\n",
    "y_1 = A_200[:,1]\n",
    "plt.plot(x_1, y_1, c='r')\n",
    "# 2масштабирование, смещенной матрицы\n",
    "v_0_5_2 = np.array([0.5,1.2,1])\n",
    "A_0_5_12 = A_200 * v_0_5_2\n",
    "# или\n",
    "m_05_2 = [[0.5, 0, 0], [0, 1.2, 0], [0, 0, 1]]\n",
    "A_0_5_12 = np.dot(A_200,m_05_2)\n",
    "\n",
    "\n",
    "x_2 = A_0_5_12[:,0]\n",
    "y_2 = A_0_5_12[:,1]\n",
    "plt.plot(x_2, y_2, c='g')\n",
    "A_0_5_12"
   ]
  },
  {
   "cell_type": "code",
   "execution_count": null,
   "metadata": {
    "colab": {
     "base_uri": "https://localhost:8080/"
    },
    "id": "708Kxc1GaP_G",
    "outputId": "7e1742cc-b55c-4576-e335-0b74249784a2"
   },
   "outputs": [
    {
     "name": "stdout",
     "output_type": "stream",
     "text": [
      "собственные значения матрицы m: [ 3. -1.]\n",
      " собственные вектора: [[ 0.89442719 -0.89442719]\n",
      " [ 0.4472136   0.4472136 ]]\n"
     ]
    }
   ],
   "source": [
    "# Задание 3\n",
    "\n",
    "# Найдите собственные значения и собственные вектора матрицы:\n",
    "m = np.array([[1, 4],\n",
    "              [1, 1]])\n",
    "# print(m)\n",
    "num,v = np.linalg.eig(m)\n",
    "print(f'собственные значения матрицы m: {num}\\n собственные вектора: {v}')"
   ]
  },
  {
   "cell_type": "code",
   "execution_count": null,
   "metadata": {
    "id": "pYSzxUt8aTjM"
   },
   "outputs": [],
   "source": [
    "# Задание 4\n",
    "# Дана функция с неизвестными параметрами a и b, \n",
    "# вам также известны значения функции fx в точках x.\n",
    "# Найдите оптимальные параметры a, b, минимизирующие абсолютную ошибку error"
   ]
  },
  {
   "cell_type": "code",
   "execution_count": null,
   "metadata": {
    "id": "VvLrFLr7Z-_j"
   },
   "outputs": [],
   "source": [
    "def f(x, a, b):\n",
    "    return np.e**a * np.sin(b*x) + x\n",
    "\n",
    "    \n",
    "x = np.array([0.        , 0.26315789, 0.52631579, 0.78947368, 1.05263158,\n",
    "              1.31578947, 1.57894737, 1.84210526, 2.10526316, 2.36842105,\n",
    "              2.63157895, 2.89473684, 3.15789474, 3.42105263, 3.68421053,\n",
    "              3.94736842, 4.21052632, 4.47368421, 4.73684211, 5.        ])\n",
    "\n",
    "fx = np.array([  0.        , -12.01819092, -18.90968634, -17.68786571,\n",
    "                -8.7529108 ,   4.27524517,  16.06801336,  21.81250213,\n",
    "                19.22059845,   9.48411207,  -3.22273056, -13.48576488,\n",
    "               -16.91096359, -11.95866834,  -0.58630088,  12.56873816,\n",
    "                22.12489421,  24.20292139,  18.04522521,   6.33211092])"
   ]
  },
  {
   "cell_type": "code",
   "execution_count": null,
   "metadata": {
    "colab": {
     "base_uri": "https://localhost:8080/",
     "height": 283
    },
    "id": "LACkvv5zajfu",
    "outputId": "c624f3bc-3764-4b81-c7b6-152dc35a1358"
   },
   "outputs": [
    {
     "data": {
      "text/plain": [
       "[<matplotlib.lines.Line2D at 0x7f21710aa7c0>]"
      ]
     },
     "execution_count": 77,
     "metadata": {},
     "output_type": "execute_result"
    },
    {
     "data": {
      "image/png": "[encoded data removed]",
      "text/plain": [
       "<Figure size 432x288 with 1 Axes>"
      ]
     },
     "metadata": {
      "needs_background": "light"
     },
     "output_type": "display_data"
    }
   ],
   "source": [
    "plt.plot(x, fx, color='b', linewidth = 5, alpha=0.4)\n",
    "# plt.show()\n",
    "plt.plot(x,f(x,*popt_start),c='r')"
   ]
  },
  {
   "cell_type": "code",
   "execution_count": null,
   "metadata": {
    "id": "DBPJ_c3_akmS"
   },
   "outputs": [],
   "source": [
    "def error(params):\n",
    "    return np.sum(np.abs(fx - f(x, params[0], params[1])))"
   ]
  },
  {
   "cell_type": "code",
   "execution_count": null,
   "metadata": {
    "colab": {
     "base_uri": "https://localhost:8080/"
    },
    "id": "AWdzJ5-FvxGX",
    "outputId": "06b34001-1ea4-4758-efa9-56f269990f9c"
   },
   "outputs": [
    {
     "name": "stdout",
     "output_type": "stream",
     "text": [
      "значение функции error: 1.5365230368047378e-06\n",
      "параметры функции f: a=3.0000000005121903, b =-2.4999999994805804\n"
     ]
    }
   ],
   "source": [
    "# зад.4 вариант 1\n",
    "popt_start, pcov = curve_fit(f,x,fx, method='lm',p0=[1,1]) #значение при наименьшей ошибке\n",
    "error_start = error(popt_start) #наименьшая ошибка\n",
    "for i in np.arange(0,10,1):\n",
    "  for j in np.arange(0,10,1):\n",
    "    pop,pcov = curve_fit(f,x,fx, method='lm',p0=[i,j])\n",
    "    e_n = error(pop)\n",
    "    if e_n < error_start:\n",
    "      popt_start = pop\n",
    "      error_start = e_n\n",
    "print(f'значение функции error: {error_start}')\n",
    "print(f'параметры функции f: a={popt_start[0]}, b ={popt_start[1]}')\n"
   ]
  },
  {
   "cell_type": "code",
   "execution_count": null,
   "metadata": {
    "colab": {
     "base_uri": "https://localhost:8080/"
    },
    "id": "o6bR1py08teA",
    "outputId": "93880d06-8b01-4255-9fa3-bbe998cfb777"
   },
   "outputs": [
    {
     "data": {
      "text/plain": [
       "     fun: 0.043631576926070004\n",
       "   maxcv: 0.0\n",
       " message: 'Optimization terminated successfully.'\n",
       "    nfev: 152\n",
       "  status: 1\n",
       " success: True\n",
       "       x: array([ 3.0000271 , -2.49993557])"
      ]
     },
     "execution_count": 90,
     "metadata": {},
     "output_type": "execute_result"
    }
   ],
   "source": [
    "# зад.4 вариант 2\n",
    "x0 = [0,0]\n",
    "result_m = scipy.optimize.minimize(error, x0,  method='COBYLA')\n",
    "result_m"
   ]
  },
  {
   "cell_type": "code",
   "execution_count": null,
   "metadata": {
    "id": "rJok2Lr8j5yx"
   },
   "outputs": [],
   "source": []
  },
  {
   "cell_type": "code",
   "execution_count": null,
   "metadata": {
    "colab": {
     "base_uri": "https://localhost:8080/"
    },
    "id": "77x1UKXc_b_1",
    "outputId": "7fad2749-b4e4-4e8f-9ed1-813d49cad1f0"
   },
   "outputs": [
    {
     "data": {
      "text/plain": [
       "     fun: 1.5118773264433116e-06\n",
       " message: 'Optimization terminated successfully.'\n",
       "    nfev: 2043\n",
       "     nit: 65\n",
       " success: True\n",
       "       x: array([ 3. , -2.5])"
      ]
     },
     "execution_count": 94,
     "metadata": {},
     "output_type": "execute_result"
    }
   ],
   "source": [
    "# зад.4 вариант 3\n",
    "# scipy.optimize.differential_evolution (+ scipy.optimize.Bounds)\n",
    "# from scipy.optimize import \n",
    "b = [(-10, 10), (-10, 10)]\n",
    "result = differential_evolution(error, b)\n",
    "result"
   ]
  },
  {
   "cell_type": "code",
   "execution_count": null,
   "metadata": {
    "colab": {
     "base_uri": "https://localhost:8080/"
    },
    "id": "a4uCb9Ogaoci",
    "outputId": "aca4a7a3-3a62-4f74-92fe-6c2d15c01829"
   },
   "outputs": [
    {
     "name": "stdout",
     "output_type": "stream",
     "text": [
      "[[0, 8], [1, 4], [2, 9], [3, 9], [4, 8], [5, 9], [6, 3], [7, 5], [8, 0], [9, 2]]\n"
     ]
    }
   ],
   "source": [
    "# Задание 5\n",
    "\n",
    "# Дана матрица рейтингов фильмов \n",
    "# (строки - пользователи (10 человек), столбцы - фильмы (15 фильмов))\n",
    "\n",
    "raitings = np.array([[ 4,  4,  9,  4,  1,  6, 10,  7,  9,  6,  9,  2,  8,  6,  6],\n",
    "                     [ 9,  2,  5, 10,  7,  8, 10,  5,  6,  2,  1,  6,  8,  9,  7],\n",
    "                     [ 1,  6,  8,  8,  4,  9,  3,  8, 10,  5,  2,  6,  8,  1,  6],\n",
    "                     [ 6,  1,  9,  7,  7,  9,  2,  3,  5,  1,  6,  6,  3,  2,  7],\n",
    "                     [ 3,  7,  3,  5,  7,  9,  9,  6,  2,  9,  1,  2,  8, 10,  6],\n",
    "                     [ 8,  3,  7,  3,  8,  6,  1,  8,  8,  6,  1,  9,  4, 10,  1],\n",
    "                     [ 9,  8,  4,  8,  8, 10,  6,  1,  1,  2,  9,  5,  2,  7,  2],\n",
    "                     [ 4,  1,  6,  4,  3, 10,  4,  4,  2,  8,  7,  9,  3,  8,  3],\n",
    "                     [ 2,  7,  7,  6, 10,  6,  8,  9,  8,  6, 10,  1,  7, 10,  4],\n",
    "                     [ 5, 10,  8,  8,  9,  7,  2,  9,  9, 10,  8,  8,  8,  6, 10]])\n",
    "\n",
    "# Необходимо найти наиболее похожего пользователя \n",
    "# по косинусной метрике для каждого из пользователей \n",
    "# (ответ: 10 пар вида (x, y), где y - наиболее похожий пользователь на пользователя x).\n",
    "# Вариант 1\n",
    "pare_x_y = []\n",
    "for i in range(len(raitings)):\n",
    "  cos_max, j_max = -1, 100\n",
    "  one_i = np.linalg.norm(raitings[i])\n",
    "  for j in range(len(raitings)):\n",
    "    if i != j:\n",
    "      one_j = np.linalg.norm(raitings[j])\n",
    "      cos_i_j = np.dot(raitings[i],raitings[j]) / (one_i*one_j)\n",
    "      if cos_i_j > cos_max:\n",
    "        cos_max = cos_i_j\n",
    "        j_max = j\n",
    "  pare_x_y.append([i,j_max])    \n",
    "print(pare_x_y)"
   ]
  },
  {
   "cell_type": "code",
   "execution_count": null,
   "metadata": {
    "colab": {
     "base_uri": "https://localhost:8080/"
    },
    "id": "BctNEKmRpMZm",
    "outputId": "9c8c8ba6-0f36-4199-980b-1c85255f5bf1"
   },
   "outputs": [
    {
     "data": {
      "text/plain": [
       "[[0, 8],\n",
       " [1, 4],\n",
       " [2, 9],\n",
       " [3, 9],\n",
       " [4, 8],\n",
       " [5, 9],\n",
       " [6, 3],\n",
       " [7, 5],\n",
       " [8, 0],\n",
       " [9, 2]]"
      ]
     },
     "execution_count": 172,
     "metadata": {},
     "output_type": "execute_result"
    }
   ],
   "source": [
    "# Вариант 2\n",
    "from  sklearn.metrics.pairwise import pairwise_distances\n",
    "user_similarity = pairwise_distances(raitings, metric='cosine')\n",
    "\n",
    "pair_x_y = []\n",
    "# non_zer = np.nonzero()\n",
    "for i in range(len(raitings)):\n",
    "  min_r = 100\n",
    "  j_min = 100\n",
    "  for j in range(len(raitings)):\n",
    "    if i != j:\n",
    "      if user_similarity[i][j] < min_r:\n",
    "        # print(\"!!!\")\n",
    "        min_r = user_similarity[i][j]\n",
    "        j_min = j\n",
    "  pair_x_y.append([i,j_min])\n",
    "\n",
    "pair_x_y"
   ]
  },
  {
   "cell_type": "code",
   "execution_count": null,
   "metadata": {
    "colab": {
     "base_uri": "https://localhost:8080/"
    },
    "id": "09-hMuaRsSV8",
    "outputId": "0462620d-7c27-4133-e128-a605be412165"
   },
   "outputs": [
    {
     "name": "stdout",
     "output_type": "stream",
     "text": [
      "0\n",
      "(array([1, 2, 3, 4, 5, 6, 7, 8, 9]),)\n",
      "1\n",
      "(array([0, 2, 3, 4, 5, 6, 7, 8, 9]),)\n",
      "2\n",
      "(array([0, 1, 3, 4, 5, 6, 7, 8, 9]),)\n",
      "3\n",
      "(array([0, 1, 2, 4, 5, 6, 7, 8, 9]),)\n",
      "4\n",
      "(array([0, 1, 2, 3, 5, 6, 7, 8, 9]),)\n",
      "5\n",
      "(array([0, 1, 2, 3, 4, 6, 7, 8, 9]),)\n",
      "6\n",
      "(array([0, 1, 2, 3, 4, 5, 7, 8, 9]),)\n",
      "7\n",
      "(array([0, 1, 2, 3, 4, 5, 6, 8, 9]),)\n",
      "8\n",
      "(array([0, 1, 2, 3, 4, 5, 6, 7, 9]),)\n",
      "9\n",
      "(array([0, 1, 2, 3, 4, 5, 6, 7, 8]),)\n"
     ]
    }
   ],
   "source": [
    "from sklearn.metrics import pairwise_distances\n",
    "\n",
    "for i, vector in enumerate(pairwise_distances(raitings, metric=\"cosine\")):\n",
    "  print(i)\n",
    "  print(np.nonzero(vector))\n",
    "  # print(list(vector).index(np.min()))\n",
    "    # print(i, list(vector).index(np.min(vector[np.nonzero(vector)])))"
   ]
  },
  {
   "cell_type": "code",
   "execution_count": null,
   "metadata": {
    "colab": {
     "base_uri": "https://localhost:8080/"
    },
    "id": "oI0KREkTv4iH",
    "outputId": "5711a72e-ff44-4d64-e9bc-c3524c7bd716"
   },
   "outputs": [
    {
     "data": {
      "text/plain": [
       "(array([0, 0, 0, 0, 0, 0, 0, 0, 0, 1, 1, 1, 1, 1, 1, 1, 1, 1, 2, 2, 2, 2,\n",
       "        2, 2, 2, 2, 2, 3, 3, 3, 3, 3, 3, 3, 3, 3, 4, 4, 4, 4, 4, 4, 4, 4,\n",
       "        4, 5, 5, 5, 5, 5, 5, 5, 5, 5, 6, 6, 6, 6, 6, 6, 6, 6, 6, 7, 7, 7,\n",
       "        7, 7, 7, 7, 7, 7, 8, 8, 8, 8, 8, 8, 8, 8, 8, 9, 9, 9, 9, 9, 9, 9,\n",
       "        9, 9]),\n",
       " array([1, 2, 3, 4, 5, 6, 7, 8, 9, 0, 2, 3, 4, 5, 6, 7, 8, 9, 0, 1, 3, 4,\n",
       "        5, 6, 7, 8, 9, 0, 1, 2, 4, 5, 6, 7, 8, 9, 0, 1, 2, 3, 5, 6, 7, 8,\n",
       "        9, 0, 1, 2, 3, 4, 6, 7, 8, 9, 0, 1, 2, 3, 4, 5, 7, 8, 9, 0, 1, 2,\n",
       "        3, 4, 5, 6, 8, 9, 0, 1, 2, 3, 4, 5, 6, 7, 9, 0, 1, 2, 3, 4, 5, 6,\n",
       "        7, 8]))"
      ]
     },
     "execution_count": 180,
     "metadata": {},
     "output_type": "execute_result"
    }
   ],
   "source": [
    "\n",
    "    \n",
    "    "
   ]
  },
  {
   "cell_type": "markdown",
   "metadata": {
    "id": "1TY2zROK8Y3B"
   },
   "source": []
  },
  {
   "cell_type": "code",
   "execution_count": null,
   "metadata": {
    "id": "NXaSmpAR8aBF"
   },
   "outputs": [],
   "source": []
  }
 ],
 "metadata": {
  "colab": {
   "provenance": []
  },
  "kernelspec": {
   "display_name": "Python 3 (ipykernel)",
   "language": "python",
   "name": "python3"
  },
  "language_info": {
   "codemirror_mode": {
    "name": "ipython",
    "version": 3
   },
   "file_extension": ".py",
   "mimetype": "text/x-python",
   "name": "python",
   "nbconvert_exporter": "python",
   "pygments_lexer": "ipython3",
   "version": "3.8.10"
  }
 },
 "nbformat": 4,
 "nbformat_minor": 1
}
