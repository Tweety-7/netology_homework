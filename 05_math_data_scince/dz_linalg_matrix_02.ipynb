{
  "nbformat": 4,
  "nbformat_minor": 0,
  "metadata": {
    "colab": {
      "provenance": []
    },
    "kernelspec": {
      "name": "python3",
      "display_name": "Python 3"
    },
    "language_info": {
      "name": "python"
    }
  },
  "cells": [
    {
      "cell_type": "code",
      "execution_count": null,
      "metadata": {
        "id": "gfUzKJQ81qe8"
      },
      "outputs": [],
      "source": [
        "import numpy as np"
      ]
    },
    {
      "cell_type": "markdown",
      "source": [
        "Уровень 0:\n",
        "Задание 1\n",
        "\n",
        "Создайте матрицу 3 на 3, заполненную числами от 1 до 9\n",
        "Прибавьте к ней матрицу с единицами на диагонале\n",
        "Умножьте полученную матрицу на вектор (1, 2, 3)\n",
        "Вычислить транспонированную матрицу  от полученной в результате прибавления матрицы\n",
        "Посчитайте обратную матрицу к полученной в результате прибавления матрице"
      ],
      "metadata": {
        "id": "pO2Y3rQO106-"
      }
    },
    {
      "cell_type": "code",
      "source": [
        "M = np.array([[1,2,3],[4,5,6],[7,8,9]])\n",
        "m_1 = np.eye(3)\n",
        "m_1\n",
        "m_sum = M + m_1\n",
        "print(m_sum)\n",
        "v = np.array([1,2,3])\n",
        "m_mul = m_sum * v # покоординатное умножение"
      ],
      "metadata": {
        "colab": {
          "base_uri": "https://localhost:8080/"
        },
        "id": "I7sfp--S114j",
        "outputId": "cc2ce2c0-e698-400f-cef0-89273036ea2f"
      },
      "execution_count": null,
      "outputs": [
        {
          "output_type": "stream",
          "name": "stdout",
          "text": [
            "[[ 2.  2.  3.]\n",
            " [ 4.  6.  6.]\n",
            " [ 7.  8. 10.]]\n"
          ]
        }
      ]
    },
    {
      "cell_type": "code",
      "source": [
        "np.dot(m_sum,v) # m_sum @ v матричное умножение,"
      ],
      "metadata": {
        "colab": {
          "base_uri": "https://localhost:8080/"
        },
        "id": "tFL0JvQ-4onl",
        "outputId": "6df0625a-3f5a-4615-c94b-27bb94e1b176"
      },
      "execution_count": null,
      "outputs": [
        {
          "output_type": "execute_result",
          "data": {
            "text/plain": [
              "array([15., 34., 53.])"
            ]
          },
          "metadata": {},
          "execution_count": 8
        }
      ]
    },
    {
      "cell_type": "code",
      "source": [
        "m_sum.T #Вычислить транспонированную матрицу от полученной в результате прибавления матрицы"
      ],
      "metadata": {
        "colab": {
          "base_uri": "https://localhost:8080/"
        },
        "id": "Fl4cEa1H4wlz",
        "outputId": "fc8fc4b2-27ff-4834-f38e-d36f09a95f7c"
      },
      "execution_count": null,
      "outputs": [
        {
          "output_type": "execute_result",
          "data": {
            "text/plain": [
              "array([[ 2.,  4.,  7.],\n",
              "       [ 2.,  6.,  8.],\n",
              "       [ 3.,  6., 10.]])"
            ]
          },
          "metadata": {},
          "execution_count": 13
        }
      ]
    },
    {
      "cell_type": "code",
      "source": [
        "# Посчитайте обратную матрицу к полученной в результате прибавления матрице\n",
        "m_inv = np.linalg.inv(m_sum)"
      ],
      "metadata": {
        "id": "uJzAq1hk6N3V"
      },
      "execution_count": null,
      "outputs": []
    },
    {
      "cell_type": "code",
      "source": [
        "m_inv@m_sum # проверю, что при умножении получается единичная матрица\n",
        "# => Всё ок =)"
      ],
      "metadata": {
        "colab": {
          "base_uri": "https://localhost:8080/"
        },
        "id": "x_wDRZHU6mqX",
        "outputId": "af9bda4d-6cf2-40c2-ad3b-59065cc88525"
      },
      "execution_count": null,
      "outputs": [
        {
          "output_type": "execute_result",
          "data": {
            "text/plain": [
              "array([[ 1.00000000e+00,  0.00000000e+00,  3.55271368e-15],\n",
              "       [-7.77156117e-17,  1.00000000e+00,  1.11022302e-16],\n",
              "       [ 6.66133815e-16,  0.00000000e+00,  1.00000000e+00]])"
            ]
          },
          "metadata": {},
          "execution_count": 17
        }
      ]
    },
    {
      "cell_type": "markdown",
      "source": [
        "Уровень 1:\n",
        "Задание 2\n",
        "\n",
        "Найдите собственные значения и собственные вектора матрицы:"
      ],
      "metadata": {
        "id": "YzZAanrl12oy"
      }
    },
    {
      "cell_type": "code",
      "source": [
        "m = np.array([[2, 2],\n",
        "              [1, 3]])\n",
        "print(m)"
      ],
      "metadata": {
        "colab": {
          "base_uri": "https://localhost:8080/"
        },
        "id": "cTPg4CZu15Wj",
        "outputId": "4569e2d2-7949-4a00-be00-07341d01faef"
      },
      "execution_count": null,
      "outputs": [
        {
          "output_type": "stream",
          "name": "stdout",
          "text": [
            "[[2 2]\n",
            " [1 3]]\n"
          ]
        }
      ]
    },
    {
      "cell_type": "code",
      "source": [
        "num, v = np.linalg.eig(m)\n",
        "print(f'собственные значения: {num}\\n собственные вектора: {v}')"
      ],
      "metadata": {
        "colab": {
          "base_uri": "https://localhost:8080/"
        },
        "id": "KaE96tgs7gse",
        "outputId": "df3d05bd-3cc9-4552-a84f-071beb8735ed"
      },
      "execution_count": null,
      "outputs": [
        {
          "output_type": "stream",
          "name": "stdout",
          "text": [
            "собственные значения: [1. 4.]\n",
            " собственные вектора: [[-0.89442719 -0.70710678]\n",
            " [ 0.4472136  -0.70710678]]\n"
          ]
        }
      ]
    },
    {
      "cell_type": "markdown",
      "source": [
        "Задание 3\n",
        "\n",
        "Придумайте матрицу, у которой определитель = 1, и все элементы не равны 0.\n",
        "\n",
        "P.S. Матрица должна быть ненулевой и размерностью не менее 2!"
      ],
      "metadata": {
        "id": "iREeRC8c17LY"
      }
    },
    {
      "cell_type": "code",
      "source": [
        "a = np.array([[1,2,1],[2,1,1],[1,3,1]])\n",
        "det = np.linalg.det(a)\n",
        "# det\n",
        "# a\n",
        "print(f'матрица: {a}\\n определитель = {det}')"
      ],
      "metadata": {
        "colab": {
          "base_uri": "https://localhost:8080/"
        },
        "id": "bqlrzpGa19bB",
        "outputId": "085e7bf3-c82a-4a68-824b-b513607b90e8"
      },
      "execution_count": null,
      "outputs": [
        {
          "output_type": "stream",
          "name": "stdout",
          "text": [
            "матрица: [[1 2 1]\n",
            " [2 1 1]\n",
            " [1 3 1]]\n",
            " определитель = 1.0\n"
          ]
        }
      ]
    }
  ]
}