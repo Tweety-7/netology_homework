{
  "nbformat": 4,
  "nbformat_minor": 0,
  "metadata": {
    "colab": {
      "provenance": []
    },
    "kernelspec": {
      "name": "python3",
      "display_name": "Python 3"
    },
    "language_info": {
      "name": "python"
    }
  },
  "cells": [
    {
      "cell_type": "code",
      "execution_count": null,
      "metadata": {
        "id": "0pu0aRz5XGRO"
      },
      "outputs": [],
      "source": [
        "import pandas as pd\n",
        "import numpy as np\n",
        "import matplotlib.pyplot as plt\n",
        "import scipy.stats as sts\n",
        "from scipy.stats import crystalball\n",
        "\n",
        "%matplotlib inline"
      ]
    },
    {
      "cell_type": "markdown",
      "source": [
        "Задание можно открыть в Гитхабе github.com..._upd.ipynb\n",
        "\n",
        "В этом задании нужно убедиться, что ЦПТ действительно работает.\n",
        "\n",
        "Создайте случайную величину из любого выбранного вами распределения, для разных значений n сгенерируйте 1000 выборок размера n. Постройте гистрограммы средних этих выборок и сделайте выводы."
      ],
      "metadata": {
        "id": "VQBnviETXOKC"
      }
    },
    {
      "cell_type": "code",
      "source": [
        "beta_1 = 2\n",
        "m_1 = 3\n",
        "rv = crystalball(beta_1,m_1) #выбранное распределение\n",
        "sample = rv.rvs(size=1000)\n"
      ],
      "metadata": {
        "id": "JwY_WcOOYezc"
      },
      "execution_count": null,
      "outputs": []
    },
    {
      "cell_type": "code",
      "source": [
        "x = np.linspace(0,2,100)\n",
        "pdf = rv.pdf(x)\n",
        "plt.hist(sample, density=True, bins=30, label='sample histogram')\n",
        "plt.plot(x, pdf, label='theoretical pdf', alpha=0.5)\n",
        "plt.legend()\n",
        "plt.ylabel('fraction of samples, $f(x)$')\n",
        "plt.xlabel('$x$')\n",
        "plt.show()"
      ],
      "metadata": {
        "colab": {
          "base_uri": "https://localhost:8080/",
          "height": 279
        },
        "id": "AO9LOFeqYjha",
        "outputId": "bdae14a2-3c65-44dd-b08f-7f1e1afaafab"
      },
      "execution_count": null,
      "outputs": [
        {
          "output_type": "display_data",
          "data": {
            "text/plain": [
              "<Figure size 432x288 with 1 Axes>"
            ],
            "image/png": "[encoded data removed]"
          },
          "metadata": {
            "needs_background": "light"
          }
        }
      ]
    },
    {
      "cell_type": "code",
      "source": [
        "# n1 = 2  # Размеры выборок\n",
        "# построим 4 экстперимента\n",
        "n1 = [2, 32, 62, 92, 122]\n",
        "samples_count = 1000  # Количество повторов генерации\n",
        "n1_all = [1*i+1 for i in range(1,150,30)]\n",
        "# a1 = np.array([]) # Массивы для сохранения средних по выборкам\n",
        "a1=[]\n",
        "\n",
        "num = 0\n",
        "\n",
        "for n1 in n1_all:\n",
        "  a1_num=[]\n",
        "  for number in range(samples_count): \n",
        "      sample1 = rv.rvs(size=n1) # На каждом цикле генерируем выборки указанных размеров\n",
        "      a1_num.append(sample1.mean()) # Считаем среднее по каждой выборке и добавляем в массив средних\n",
        "  # a1 = np.append(a1, a1_num)  # объединяет в один массив   ???!!\n",
        "  a1.append(a1_num)\n"
      ],
      "metadata": {
        "id": "rKNWWfFbYmvi"
      },
      "execution_count": null,
      "outputs": []
    },
    {
      "cell_type": "code",
      "source": [
        "from scipy.stats.distributions import alpha\n",
        "# гистограммы средних выборок,при различном n1\n",
        "k = 0\n",
        "n1=n1_all[k]\n",
        "label_1 = 'sample of ' + str(n1) + ' histogram'   # Подписи для графиков\n",
        "# # YOUR CODE HERE\n",
        "plt.hist(a1[k], density=True, label=label_1);         # Строим графики\n",
        "\n",
        "k=1\n",
        "n1=n1_all[k]\n",
        "label_1 = 'sample of ' + str(n1) + ' histogram'   # Подписи для графиков\n",
        "# # YOUR CODE HERE\n",
        "plt.hist(a1[k], density=True, label=label_1,alpha=0.3);         # Строим графики\n",
        "\n",
        "k=2\n",
        "n1=n1_all[k]\n",
        "label_1 = 'sample of ' + str(n1) + ' histogram'   # Подписи для графиков\n",
        "plt.hist(a1[k], density=True, label=label_1, alpha=0.5);         # Строим графики\n",
        "\n",
        "k=3\n",
        "n1=n1_all[k]\n",
        "label_1 = 'sample of ' + str(n1) + ' histogram'   # Подписи для графиков\n",
        "plt.hist(a1[k], density=True, label=label_1, alpha=0.5);         # Строим графики\n",
        "\n",
        "plt.legend() \n",
        "plt.ylabel('samples means')\n",
        "plt.xlabel('$x$');\n",
        "\"\"\"\n",
        "При увеличении размера выборок, гистограмма средних сужается,\n",
        "а математическое ожидание среднего не изменяется\n",
        "дисперсия уменьшается, тк должно сходиться у бесконечно узкому нормальному распределению около МО\n",
        "\"\"\"\n"
      ],
      "metadata": {
        "colab": {
          "base_uri": "https://localhost:8080/",
          "height": 336
        },
        "id": "sBFMwTaPY_oM",
        "outputId": "979032fc-26c8-4509-c91b-4b3dc5b18069"
      },
      "execution_count": null,
      "outputs": [
        {
          "output_type": "execute_result",
          "data": {
            "text/plain": [
              "'\\nПри увеличении размера выборок, гистограмма средних сужается,\\nа математическое ожидание среднего не изменяется\\nдисперсия уменьшается, тк должно сходиться у бесконечно узкому нормальному распределению около МО\\n'"
            ],
            "application/vnd.google.colaboratory.intrinsic+json": {
              "type": "string"
            }
          },
          "metadata": {},
          "execution_count": 8
        },
        {
          "output_type": "display_data",
          "data": {
            "text/plain": [
              "<Figure size 432x288 with 1 Axes>"
            ],
            "image/png": "[encoded data removed]"
          },
          "metadata": {
            "needs_background": "light"
          }
        }
      ]
    }
  ]
}